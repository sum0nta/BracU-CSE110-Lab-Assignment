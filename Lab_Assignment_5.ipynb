{
  "cells": [
    {
      "cell_type": "code",
      "execution_count": null,
      "metadata": {
        "colab": {
          "base_uri": "https://localhost:8080/"
        },
        "id": "08X9QzfObyXR",
        "outputId": "62775ff1-df96-451e-b3c7-2c02ac39b932"
      },
      "outputs": [
        {
          "name": "stdout",
          "output_type": "stream",
          "text": [
            "400\n"
          ]
        }
      ],
      "source": [
        "#Task1\n",
        "\n",
        "a_tuple = (\"The Institute\",\n",
        "           (\"Best Mystery & Thriller\", \"The Silent Patient\", 68821), \n",
        "           75717, [1, 2, 3, 400, 5, 6, 7], \n",
        "           (\"Best Fiction\", \"The Testaments\", 98291))\n",
        "\n",
        "print(a_tuple[3][3])"
      ]
    },
    {
      "cell_type": "code",
      "execution_count": null,
      "metadata": {
        "colab": {
          "base_uri": "https://localhost:8080/"
        },
        "id": "h3sxket6cB5u",
        "outputId": "64f0660b-ea95-4365-e891-6f8708741ae4"
      },
      "outputs": [
        {
          "name": "stdout",
          "output_type": "stream",
          "text": [
            "(24, 25, 26)\n"
          ]
        }
      ],
      "source": [
        "#Task2\n",
        "\n",
        "t1 = (10, 20, 24, 25, 26, 35, 70)\n",
        "\n",
        "print(t1[2:-2])"
      ]
    },
    {
      "cell_type": "code",
      "execution_count": null,
      "metadata": {
        "colab": {
          "base_uri": "https://localhost:8080/"
        },
        "id": "Yf0qQZtqcaNq",
        "outputId": "9c22e226-6880-460e-c1a8-9375826f40e7"
      },
      "outputs": [
        {
          "name": "stdout",
          "output_type": "stream",
          "text": [
            "Size of the tuple is 4\n",
            "('Best Mystery & Thriller', 'The Silent Patient', 68, 821)\n",
            "('Best Horror', 'The Institute', 75, 717)\n",
            "('Best History & Biography', 'The five', 31, 783)\n",
            "('Best Fiction', 'The Testaments', 98, 291)\n"
          ]
        }
      ],
      "source": [
        "#Task3\n",
        "\n",
        "book_info = (\n",
        "(\"Best Mystery & Thriller\",\"The Silent Patient\",68,821),\n",
        "(\"Best Horror\",\"The Institute\",75,717),\n",
        "(\"Best History & Biography\",\"The five\",31,783 ),\n",
        "(\"Best Fiction\",\"The Testaments\",98,291)\n",
        ")\n",
        "\n",
        "print(f\"Size of the tuple is {len(book_info)}\")\n",
        "for i in book_info:\n",
        "    print(i)"
      ]
    },
    {
      "cell_type": "code",
      "execution_count": null,
      "metadata": {
        "colab": {
          "base_uri": "https://localhost:8080/"
        },
        "id": "6TsQ1N4-VAcK",
        "outputId": "eb85f462-beb8-4f1c-91db-bc318a4ec719"
      },
      "outputs": [
        {
          "name": "stdout",
          "output_type": "stream",
          "text": [
            "The Silent Patient won the 'Best Mystery & Thriller' category with 68821 votes\n",
            "The Institute won the 'Best Horror' category with 75717 votes\n",
            "The five won the 'Best History & Biography' category with 31783 votes\n",
            "The Testaments won the 'Best Fiction' category with 98291 votes\n"
          ]
        }
      ],
      "source": [
        "#Task4\n",
        "\n",
        "book_info = (\n",
        "(\"Best Mystery & Thriller\",\"The Silent Patient\",68821),\n",
        "(\"Best Horror\",\"The Institute\",75717),\n",
        "(\"Best History & Biography\",\"The five\",31783 ),\n",
        "(\"Best Fiction\",\"The Testaments\",98291)\n",
        ") \n",
        "\n",
        "for i in book_info:\n",
        "    category, book_name, votes = i\n",
        "    print(f\"{book_name} won the '{category}' category with {votes} votes\")"
      ]
    },
    {
      "cell_type": "code",
      "execution_count": null,
      "metadata": {
        "colab": {
          "base_uri": "https://localhost:8080/"
        },
        "id": "dWkclovLcr3Y",
        "outputId": "871d82e6-d722-4d91-b2f9-adad012b7d48"
      },
      "outputs": [
        {
          "name": "stdout",
          "output_type": "stream",
          "text": [
            "Enter number here: 8\n",
            "8 appears 4 times in the tuple\n"
          ]
        }
      ],
      "source": [
        "#Task5\n",
        "\n",
        "t1 = (10, 8, 5, 2, 10, 15, 10, 8, 5, 8, 8, 2)\n",
        "n = int(input(\"Enter number here: \"))\n",
        "\n",
        "count = 0\n",
        "for i in t1:\n",
        "    if i == n:\n",
        "        count += 1\n",
        "\n",
        "print(f\"{n} appears {count} times in the tuple\")"
      ]
    },
    {
      "cell_type": "code",
      "execution_count": null,
      "metadata": {
        "colab": {
          "base_uri": "https://localhost:8080/"
        },
        "id": "fFAZ3zZ4VF4H",
        "outputId": "347476e6-ed74-4174-95a5-657ad19d30d8"
      },
      "outputs": [
        {
          "name": "stdout",
          "output_type": "stream",
          "text": [
            "('h', 'g', 'f', 'e', 'd', 'c', 'b', 'a')\n"
          ]
        }
      ],
      "source": [
        "#Task6\n",
        "\n",
        "t1 = ('a', 'b', 'c', 'd', 'e', 'f', 'g', 'h')\n",
        "l1 = []\n",
        "for i in range(len(t1)-1,-1,-1):\n",
        "    l1.append(t1[i])\n",
        "\n",
        "print(tuple(l1))"
      ]
    },
    {
      "cell_type": "code",
      "execution_count": null,
      "metadata": {
        "colab": {
          "base_uri": "https://localhost:8080/"
        },
        "id": "9nobsku7d1Q8",
        "outputId": "1f212a52-e788-402a-c3c9-a942a0cab705"
      },
      "outputs": [
        {
          "name": "stdout",
          "output_type": "stream",
          "text": [
            "{'Harry': 15, 'Draco': 8, 'Nevil': 19, 'Ginie': 18, 'Luna': 14}\n"
          ]
        }
      ],
      "source": [
        "#Task7\n",
        "\n",
        "dict1 = {'Harry':15, 'Draco':8, 'Nevil':19}\n",
        "dict2 = {'Ginie':18, 'Luna': 14}\n",
        "\n",
        "dict3 = {}\n",
        "dict3.update(dict1)\n",
        "dict3.update(dict2)\n",
        "\n",
        "print(dict3)"
      ]
    },
    {
      "cell_type": "code",
      "execution_count": null,
      "metadata": {
        "colab": {
          "base_uri": "https://localhost:8080/"
        },
        "id": "27O4zRivVZ2b",
        "outputId": "c83a7a50-c403-4941-cfee-f4e749977462"
      },
      "outputs": [
        {
          "name": "stdout",
          "output_type": "stream",
          "text": [
            "Enter number of iterations here: 3\n",
            "Enter key here: Jon\n",
            "Enter value here: 100\n",
            "Enter key here: Dan\n",
            "Enter value here: 200\n",
            "Enter key here: Rob\n",
            "Enter value here: 300\n",
            "Average is 200.0\n"
          ]
        }
      ],
      "source": [
        "#Task8\n",
        "\n",
        "dict1 = {}\n",
        "\n",
        "iteration = int(input(\"Enter number of iterations here: \"))\n",
        "sum = 0\n",
        "\n",
        "for i in range(iteration):\n",
        "  key = input(\"Enter key here: \")\n",
        "  value = int(input(\"Enter value here: \"))\n",
        "  dict1[key] = value\n",
        "  sum += value\n",
        "\n",
        "print(f'Average is {sum/iteration}')"
      ]
    },
    {
      "cell_type": "code",
      "execution_count": null,
      "metadata": {
        "colab": {
          "base_uri": "https://localhost:8080/"
        },
        "id": "RLEqqDtpWpfw",
        "outputId": "4adf790b-9f3a-4aba-ed41-11fdcdd487cb"
      },
      "outputs": [
        {
          "name": "stdout",
          "output_type": "stream",
          "text": [
            "Enter number here: 190\n",
            "{'Alden Cantrell': 200, 'Pierre Cox': 190}\n"
          ]
        }
      ],
      "source": [
        "#Task9\n",
        "\n",
        "exam_marks = {'Cierra Vega': 175, 'Alden Cantrell': 200, 'Kierra Gentry': 165, 'Pierre Cox': 190}\n",
        "num = int(input(\"Enter number here: \"))\n",
        "dict1 = {}\n",
        "for i in exam_marks.items():\n",
        "  key,value = i\n",
        "  if value >= num:\n",
        "    dict1[key] = value\n",
        "  \n",
        "print(dict1)"
      ]
    },
    {
      "cell_type": "code",
      "execution_count": null,
      "metadata": {
        "colab": {
          "base_uri": "https://localhost:8080/"
        },
        "id": "8bzIJOQQeGae",
        "outputId": "538614f7-7101-4d2d-8151-071a6b95451b"
      },
      "outputs": [
        {
          "name": "stdout",
          "output_type": "stream",
          "text": [
            "The highest selling book genre is 'mystery' and the number of books sold are 15.\n"
          ]
        }
      ],
      "source": [
        "#Task10\n",
        "\n",
        "dict1 = {'sci fi': 12, 'mystery': 15, 'horror': 8, 'mythology': 10, 'young_adult': 4, 'adventure':14}\n",
        "max = -99999999999999\n",
        "for key,value in dict1.items():\n",
        "  if value > max:\n",
        "    max = value\n",
        "    max_key = key\n",
        "\n",
        "print(f\"The highest selling book genre is '{max_key}' and the number of books sold are {max}.\")"
      ]
    },
    {
      "cell_type": "code",
      "execution_count": null,
      "metadata": {
        "colab": {
          "base_uri": "https://localhost:8080/"
        },
        "id": "OQVLGJS_XmYY",
        "outputId": "31934f35-8ad1-4e8f-e613-7ca7a1d947f8"
      },
      "outputs": [
        {
          "name": "stdout",
          "output_type": "stream",
          "text": [
            "Enter string here: Python programming is fun\n",
            "{'p': 2, 'y': 1, 't': 1, 'h': 1, 'o': 2, 'n': 3, 'r': 2, 'g': 2, 'a': 1, 'm': 2, 'i': 2, 's': 1, 'f': 1, 'u': 1}\n"
          ]
        }
      ],
      "source": [
        "#Task11\n",
        "\n",
        "str1 = input(\"Enter string here: \").lower()\n",
        "\n",
        "dict1 = {}\n",
        "\n",
        "for i in str1:\n",
        "  count = 0\n",
        "  if i not in dict1 and i!= ' ':\n",
        "    for j in str1:\n",
        "       if i == j:\n",
        "        count += 1\n",
        "    dict1[i] = count\n",
        "\n",
        "print(dict1)"
      ]
    },
    {
      "cell_type": "code",
      "execution_count": null,
      "metadata": {
        "colab": {
          "base_uri": "https://localhost:8080/"
        },
        "id": "uFOynC9FZK3d",
        "outputId": "b93e4c1a-2de1-405c-ef63-acad7ebce5f6"
      },
      "outputs": [
        {
          "name": "stdout",
          "output_type": "stream",
          "text": [
            "9\n"
          ]
        }
      ],
      "source": [
        "#Task12\n",
        "\n",
        "dict1 = {'A': [1, 2, 3], 'b': ['1', '2'], \"c\": [4, 5, 6, 7]}\n",
        "count = 0\n",
        "for key,value in dict1.items():\n",
        "  for i in value:\n",
        "    count += 1\n",
        "\n",
        "print(count)"
      ]
    },
    {
      "cell_type": "code",
      "execution_count": null,
      "metadata": {
        "colab": {
          "base_uri": "https://localhost:8080/"
        },
        "id": "VkCuCChnfrKv",
        "outputId": "f00d881f-aa23-45c8-89fa-94e8d252ee4d"
      },
      "outputs": [
        {
          "name": "stdout",
          "output_type": "stream",
          "text": [
            "{'a': [1, 3, 2], 'b': [2, 1], 'c': [1]}\n"
          ]
        }
      ],
      "source": [
        "#Task13\n",
        "\n",
        "list_1 = [(\"a\", 1), (\"b\", 2), (\"a\", 3), (\"b\", 1), (\"a\", 2), (\"c\", 1)]\n",
        "dict1 = {}\n",
        "for i in list_1:\n",
        "  if i not in dict1:\n",
        "    l1 = []\n",
        "    for j in list_1:\n",
        "      if i[0] == j[0]:\n",
        "        l1.append(j[1])\n",
        "  dict1[i[0]] = l1\n",
        "\n",
        "print(dict1)"
      ]
    },
    {
      "cell_type": "code",
      "execution_count": null,
      "metadata": {
        "colab": {
          "base_uri": "https://localhost:8080/"
        },
        "id": "jHcVTUhjGui-",
        "outputId": "2127c305-387b-4dec-ad8b-9cde44f2dbda"
      },
      "outputs": [
        {
          "name": "stdout",
          "output_type": "stream",
          "text": [
            "8\n",
            "a -> 17\n",
            "10\n",
            "b -> 19\n",
            "2\n",
            "c -> 5\n",
            "-7\n",
            "d -> -14\n",
            "2\n",
            "e -> 5\n"
          ]
        }
      ],
      "source": [
        "''' Task 14 (Tracing) '''\n",
        "\n",
        "dict1 = {'a':59 , 'b':-82 , 'c':5 , 'd':-81 , 'e':53}\n",
        "for i in dict1:\n",
        "\t    j = 0\n",
        "\t    k = 22\n",
        "\t    while j < 5:\n",
        "\t        if j % 2 == 0:\n",
        "\t            k = dict1[i] + j - (8 + k % 6) / 3\n",
        "\t            dict1[i] = dict1[i]+ int(k)\n",
        "\t        else:\n",
        "\t            k = dict1[i] + j - (6 - k % 8) * 3\n",
        "\t            dict1[i] = dict1[i] - int(k)\n",
        "\t        j += 1\n",
        "\t    print(int(k))\n",
        "\t    print(i + \" -> \" + str(dict1[i]))\n"
      ]
    },
    {
      "cell_type": "code",
      "execution_count": null,
      "metadata": {
        "colab": {
          "base_uri": "https://localhost:8080/"
        },
        "id": "NAN-JXmdciVD",
        "outputId": "21a756c1-bf57-4293-8af1-0d441cc5f72d"
      },
      "outputs": [
        {
          "name": "stdout",
          "output_type": "stream",
          "text": [
            "[242, 1815, 4235, 484]\n"
          ]
        }
      ],
      "source": [
        "#Task15\n",
        "\n",
        "l1 = [(11, 22), (33, 55), (55, 77), (11, 44)]\n",
        "l2 = []\n",
        "for i  in l1:\n",
        "  product = i[0] * i[1]\n",
        "  l2.append(product)\n",
        "\n",
        "print(l2)"
      ]
    },
    {
      "cell_type": "code",
      "execution_count": null,
      "metadata": {
        "colab": {
          "base_uri": "https://localhost:8080/"
        },
        "id": "8R5vLaa5c4zC",
        "outputId": "f2949cc2-4bca-493a-83fc-803c303fe907"
      },
      "outputs": [
        {
          "name": "stdout",
          "output_type": "stream",
          "text": [
            "Enter value here: 1000\n",
            "([1, 2, '1000'], [4, 5, '1000'], [7, 8, '1000'], [10, 11, '1000'])\n"
          ]
        }
      ],
      "source": [
        "#Task16\n",
        "\n",
        "a_tuple = ( [1, 2, 3], [4, 5, 6], [7, 8, 9], [10, 11, 12])\n",
        "\n",
        "user_input = input(\"Enter value here: \")\n",
        "\n",
        "for i in a_tuple:\n",
        "  i[-1] = user_input\n",
        "\n",
        "print(a_tuple)"
      ]
    },
    {
      "cell_type": "code",
      "execution_count": null,
      "metadata": {
        "colab": {
          "base_uri": "https://localhost:8080/"
        },
        "id": "FYBXjQPvdi5o",
        "outputId": "4c946298-90d1-4f95-96f3-c5e095eb1484"
      },
      "outputs": [
        {
          "name": "stdout",
          "output_type": "stream",
          "text": [
            "{'c1': 'Red', 'c2': 'Green', 'd4': 'Blue'}\n"
          ]
        }
      ],
      "source": [
        "#Task17\n",
        "\n",
        "my_dictionary = {'c1':'Red', 'c2':'Green', 'c3':None, 'd4':'Blue', 'a5':None}\n",
        "dict1 = {}\n",
        "for key,value in my_dictionary.items():\n",
        "  if value != None:\n",
        "    dict1[key] = value\n",
        "\n",
        "print(dict1)"
      ]
    },
    {
      "cell_type": "code",
      "execution_count": null,
      "metadata": {
        "colab": {
          "base_uri": "https://localhost:8080/"
        },
        "id": "K6Nkr5RreOVQ",
        "outputId": "89475dda-7cd1-4eda-efd6-98726f56ac65"
      },
      "outputs": [
        {
          "name": "stdout",
          "output_type": "stream",
          "text": [
            "Enter lower limit here: 9\n",
            "Enter upper limit here: 12\n",
            "{'c': 9, 'e': 11}\n"
          ]
        }
      ],
      "source": [
        "#Task18\n",
        "\n",
        "dict_1 = {'a' : 6, 'b' : 7, 'c' : 9, 'd' : 8, 'e' : 11, 'f' : 12, 'g' : 13}\n",
        "lower_limit = int(input(\"Enter lower limit here: \"))\n",
        "upper_limit = int(input(\"Enter upper limit here: \"))\n",
        "dict2 = {}\n",
        "\n",
        "for key,value in dict_1.items():\n",
        "  if lower_limit <= value < upper_limit:\n",
        "    dict2[key] = value\n",
        "\n",
        "print(dict2)"
      ]
    },
    {
      "cell_type": "code",
      "execution_count": null,
      "metadata": {
        "colab": {
          "base_uri": "https://localhost:8080/"
        },
        "id": "u_5D7TQyfReW",
        "outputId": "c2fcdaf0-ed52-4645-8ae5-0dcaab56c445"
      },
      "outputs": [
        {
          "name": "stdout",
          "output_type": "stream",
          "text": [
            "{'Sad': [(20, 'Sad'), (31, 'Sad')], 'NotSad': [(88, 'NotSad'), (27, 'NotSad')]}\n"
          ]
        }
      ],
      "source": [
        "#Task19\n",
        "\n",
        "t1 = [(20, 'Sad'), (31, 'Sad'), (88, 'NotSad'), (27, 'NotSad')]\n",
        "l1 = []\n",
        "dict1 = {}\n",
        "\n",
        "for i in t1:\n",
        "  second = i[1]\n",
        "  if second not in l1:\n",
        "    l1.append(second)\n",
        "for i in l1:\n",
        "  l2 = []\n",
        "  for j in t1:\n",
        "    if i == j[1]:\n",
        "      l2.append(j)\n",
        "    dict1[i] = l2\n",
        "\n",
        "print(dict1)"
      ]
    },
    {
      "cell_type": "code",
      "execution_count": null,
      "metadata": {
        "colab": {
          "base_uri": "https://localhost:8080/"
        },
        "id": "UGTnDnhlZGno",
        "outputId": "e415ea77-df9e-41f8-e46a-ce2df9612ed5"
      },
      "outputs": [
        {
          "name": "stdout",
          "output_type": "stream",
          "text": [
            "First input: The secret of getting ahead is getting started.\n",
            "Special characters: -=+*%\n",
            "Words in the given string: ['The', 'secret', 'of', 'getting', 'ahead', 'is', 'getting', 'started']\n",
            "Answer: {'-': ['is'], '=': ['secret'], '*': ['of'], '%': ['The', 'getting', 'ahead', 'started']}\n"
          ]
        }
      ],
      "source": [
        "#Task20\n",
        "\n",
        "str1 = input(\"First input: \")\n",
        "\n",
        "str2 = input(\"Special characters: \")\n",
        "special_char = []\n",
        "for i in str2:\n",
        "  special_char.append(i)\n",
        "\n",
        "str3 = ''\n",
        "for i in str1:\n",
        "  if i != '.':\n",
        "    str3+= i\n",
        "l1 = str3.split()\n",
        "dict1 = {}\n",
        "\n",
        "def ascii_count(i):\n",
        "  total = 0\n",
        "  for j in i:\n",
        "    total += ord(j)\n",
        "  return total\n",
        "\n",
        "for i in range(len(special_char)):\n",
        "  l3 = []\n",
        "  for j in l1:\n",
        "    if ascii_count(j) % len(special_char) == i :\n",
        "      if j not in l3:\n",
        "        l3.append(j)\n",
        "  if l3 != []:\n",
        "    dict1[special_char[i]] = l3\n",
        "\n",
        "\n",
        "print(f\"Words in the given string: {l1}\")\n",
        "print(f\"Answer: {dict1}\")"
      ]
    }
  ],
  "metadata": {
    "colab": {
      "collapsed_sections": [],
      "provenance": []
    },
    "kernelspec": {
      "display_name": "Python 3",
      "name": "python3"
    },
    "language_info": {
      "name": "python"
    }
  },
  "nbformat": 4,
  "nbformat_minor": 0
}
