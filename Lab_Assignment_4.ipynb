{
  "cells": [
    {
      "cell_type": "code",
      "execution_count": null,
      "metadata": {
        "colab": {
          "base_uri": "https://localhost:8080/"
        },
        "id": "K607-Cl-F-Q0",
        "outputId": "bf18e365-d410-45ab-b670-310c781fd734"
      },
      "outputs": [
        {
          "name": "stdout",
          "output_type": "stream",
          "text": [
            "Enter number here: 1\n",
            "Numbers in the list: [1]\n",
            "Enter number here: 2\n",
            "Numbers in the list: [1, 2]\n",
            "Enter number here: 4\n",
            "Numbers in the list: [1, 2, 4]\n",
            "Enter number here: -5\n",
            "Numbers in the list: [1, 2, 4, -5]\n",
            "Enter number here: 6\n",
            "Numbers in the list: [1, 2, 4, -5, 6]\n"
          ]
        }
      ],
      "source": [
        "#task1\n",
        "list1 = []\n",
        "\n",
        "for i in range(5):\n",
        "  num = int(input(\"Enter number here: \"))\n",
        "  list1.append(num)\n",
        "  print(f\"Numbers in the list: {list1}\")\n"
      ]
    },
    {
      "cell_type": "code",
      "execution_count": null,
      "metadata": {
        "colab": {
          "base_uri": "https://localhost:8080/"
        },
        "id": "otNEP32MGqzm",
        "outputId": "16f53c07-b3ee-42c3-a27d-8b449f77e4e4"
      },
      "outputs": [
        {
          "name": "stdout",
          "output_type": "stream",
          "text": [
            "Enter list here: [10, 20, 24, 25, 26, 35, 70]\n",
            "[24, 25, 26]\n"
          ]
        }
      ],
      "source": [
        "#task2\n",
        "\n",
        "list1 = input(\"Enter list here: \")\n",
        "\n",
        "list2 = list1[1:-1]\n",
        "list2 =[int(i) for i in list2.split(\", \")]\n",
        "\n",
        "\n",
        "if len(list2) > 3:\n",
        "  list2 = list2[2:-2]\n",
        "  print(list2)\n",
        "else:\n",
        "  print(\"Not possible\")"
      ]
    },
    {
      "cell_type": "code",
      "execution_count": null,
      "metadata": {
        "colab": {
          "base_uri": "https://localhost:8080/"
        },
        "id": "G23LQX8ZHyMh",
        "outputId": "20dea83a-412c-4909-95c0-650acce4090a"
      },
      "outputs": [
        {
          "name": "stdout",
          "output_type": "stream",
          "text": [
            "Enter number here: 1\n",
            "Enter number here: 2\n",
            "Enter number here: 3\n",
            "Enter number here: 4\n",
            "Enter number here: 5\n",
            "Input data: [1, 2, 3, 4, 5] \n",
            "Printing values from the list in reverse order:\n",
            "5\n",
            "4\n",
            "3\n",
            "2\n",
            "1\n"
          ]
        }
      ],
      "source": [
        "#task3 (LONG)\n",
        "\n",
        "list1 = []\n",
        "\n",
        "for i in range(5):\n",
        "  num = int(input(\"Enter number here: \"))\n",
        "  list1.append(num)\n",
        "  \n",
        "print(f\"Input data: {list1}\")\n",
        "print(\"Printing values from the list in reverse order: \")\n",
        "for i in list1[: :-1]:\n",
        "  print(i)\n"
      ]
    },
    {
      "cell_type": "code",
      "execution_count": null,
      "metadata": {
        "colab": {
          "base_uri": "https://localhost:8080/"
        },
        "id": "W1yEPrQ-wMoK",
        "outputId": "bb8f8735-c750-452f-cdd7-998c0b95a90f"
      },
      "outputs": [
        {
          "name": "stdout",
          "output_type": "stream",
          "text": [
            "Enter: 5\n",
            "Enter: 4\n",
            "Enter: 3\n",
            "Enter: 2\n",
            "Enter: 1\n",
            "Input data: [5, 4, 3, 2, 1]\n",
            "Printing values from the list in reverse order: \n",
            "1\n",
            "2\n",
            "3\n",
            "4\n",
            "5\n"
          ]
        }
      ],
      "source": [
        "#task3 \n",
        "list1 = [ int(input(\"Enter: \")) \n",
        "          for i in range(5)]\n",
        "\n",
        "\n",
        "print(f\"Input data: {list1}\")\n",
        "print(\"Printing values from the list in reverse order: \")\n",
        "for i in list1[: :-1]:\n",
        "  print(i)"
      ]
    },
    {
      "cell_type": "code",
      "execution_count": null,
      "metadata": {
        "colab": {
          "base_uri": "https://localhost:8080/"
        },
        "id": "yjzaSf8lIkp_",
        "outputId": "1ffe1334-9149-422b-8c3e-3364b008a533"
      },
      "outputs": [
        {
          "name": "stdout",
          "output_type": "stream",
          "text": [
            "[1, 4, 9, 16, 25, 36, 49]\n"
          ]
        }
      ],
      "source": [
        "#task4\n",
        "\n",
        "list1 =[1, 2, 3, 4, 5, 6, 7]\n",
        "list2 = []\n",
        "for i in list1:\n",
        "  list2.append(i**2)\n",
        "\n",
        "print(list2)"
      ]
    },
    {
      "cell_type": "code",
      "execution_count": null,
      "metadata": {
        "colab": {
          "base_uri": "https://localhost:8080/"
        },
        "id": "igERZmrRxJ9E",
        "outputId": "8ecd5f08-660a-435b-9b53-c54bf1288ecd"
      },
      "outputs": [
        {
          "name": "stdout",
          "output_type": "stream",
          "text": [
            "[1, 4, 9, 16, 25, 36, 49]\n"
          ]
        }
      ],
      "source": [
        "#task4(comp)\n",
        "\n",
        "list1 = [1, 2, 3, 4, 5, 6, 7]\n",
        "\n",
        "list2 =[(i**2) for i in list1]\n",
        "\n",
        "print(list2)"
      ]
    },
    {
      "cell_type": "code",
      "execution_count": null,
      "metadata": {
        "colab": {
          "base_uri": "https://localhost:8080/"
        },
        "id": "bqw-2dS8JhhM",
        "outputId": "2fa1989a-1151-4cea-cbed-267cd0c58965"
      },
      "outputs": [
        {
          "name": "stdout",
          "output_type": "stream",
          "text": [
            "Orginal list: ['hey', 'there', '', \"what's\", '', 'up', '', '?']\n",
            "Modified list: ['hey', 'there', \"what's\", 'up', '?']\n"
          ]
        }
      ],
      "source": [
        "#task5\n",
        "\n",
        "list1 = [\"hey\", \"there\", \"\", \"what's\", \"\", \"up\", \"\", \"?\"]\n",
        "list2 = []\n",
        "for i in range(len(list1)):\n",
        "  if list1[i] !='':\n",
        "    list2.append(list1[i])\n",
        "\n",
        "print(f\"Orginal list: {list1}\")\n",
        "print(f\"Modified list: {list2}\")"
      ]
    },
    {
      "cell_type": "code",
      "execution_count": null,
      "metadata": {
        "colab": {
          "base_uri": "https://localhost:8080/"
        },
        "id": "xKhtdIN59dq6",
        "outputId": "9e1896b5-8603-4028-9f28-5b10085848eb"
      },
      "outputs": [
        {
          "name": "stdout",
          "output_type": "stream",
          "text": [
            "Orginal list: ['', 'hey', 'there', '', \"what's\", '', 'up', '', '?']\n",
            "Modified list: ['hey', 'there', \"what's\", 'up', '?']\n"
          ]
        }
      ],
      "source": [
        "list1 = [\"\",\"hey\", \"there\", \"\", \"what's\", \"\", \"up\", \"\", \"?\"]\n",
        "list2 =[\n",
        "        list1[i]  for i in range(len(list1)) \n",
        "        if list1[i]!=''\n",
        "\n",
        "]\n",
        "\n",
        "print(f\"Orginal list: {list1}\")\n",
        "print(f\"Modified list: {list2}\")"
      ]
    },
    {
      "cell_type": "code",
      "execution_count": null,
      "metadata": {
        "colab": {
          "base_uri": "https://localhost:8080/"
        },
        "id": "fYQjPz-Wmkt4",
        "outputId": "767fc220-c5dc-4f1b-d415-01e508a0da93"
      },
      "outputs": [
        {
          "name": "stdout",
          "output_type": "stream",
          "text": [
            "Orginal list: ['', 'hey', 'there', '', \"what's\", '', 'up', '', '?']\n",
            "Modified list: ['hey', 'there', \"what's\", 'up', '?']\n"
          ]
        }
      ],
      "source": [
        "list1 = [\"\",\"hey\", \"there\", \"\", \"what's\", \"\", \"up\", \"\", \"?\"]\n",
        "list2 =[i for i in list1 if i!= '']\n",
        "\n",
        "\n",
        "print(f\"Orginal list: {list1}\")\n",
        "print(f\"Modified list: {list2}\")"
      ]
    },
    {
      "cell_type": "code",
      "execution_count": null,
      "metadata": {
        "colab": {
          "base_uri": "https://localhost:8080/"
        },
        "id": "yjp_igDFbGub",
        "outputId": "3a0eb2db-87ea-4fe8-e747-3924f1db403c"
      },
      "outputs": [
        {
          "name": "stdout",
          "output_type": "stream",
          "text": [
            "Enter 7 numbers here seperated by comma(,) 7, 13, 2, 10, 6, -11, 0\n",
            "My list: [7, 13, 2, 10, 6, -11, 0]\n",
            "Largest number in the list is 13 which was found at index 1.\n"
          ]
        }
      ],
      "source": [
        "#task6 (without split)\n",
        "str1 = input(\"Enter 7 numbers here seperated by comma(,) \")\n",
        "\n",
        "list1 = []\n",
        "word =''\n",
        "\n",
        "for i in str1:\n",
        "  if i ==\",\":\n",
        "    list1.append(word)\n",
        "    word =''\n",
        "  else:\n",
        "    word += i\n",
        "\n",
        "if word:\n",
        "  list1.append(word)\n",
        "\n",
        "list2 =[]\n",
        "\n",
        "for i in list1:\n",
        "  j = int(i)\n",
        "  list2.append(j)\n",
        "\n",
        "max = list2[0]\n",
        "\n",
        "for i in range(len(list2)):\n",
        "  if list2[i] > max:\n",
        "    max = list2[i]\n",
        "\n",
        "for i in range(len(list2)):\n",
        "  if list2[i] == max:\n",
        "    index = i\n",
        "\n",
        "print(f\"My list: {list2}\")    \n",
        "print(f\"Largest number in the list is {max} which was found at index {index}.\")"
      ]
    },
    {
      "cell_type": "code",
      "execution_count": null,
      "metadata": {
        "colab": {
          "base_uri": "https://localhost:8080/"
        },
        "id": "LZ7ORopDP0g1",
        "outputId": "7a1745b8-a98d-4b6b-c035-3d556acddff0"
      },
      "outputs": [
        {
          "name": "stdout",
          "output_type": "stream",
          "text": [
            "Enter 7 numbers here seperated by comma(,) 10,11,12\n",
            "My list: [10, 11, 12]\n",
            "Largest number in the list is 12 which was found at index 2.\n"
          ]
        }
      ],
      "source": [
        "#task6\n",
        "\n",
        "list1 = [\n",
        "         int(i)\n",
        "         for i in input(\"Enter 7 numbers here seperated by comma(,) \").split(\",\")\n",
        "         ]\n",
        "\n",
        "max = list1[0]\n",
        "\n",
        "for i in range(len(list1)):\n",
        "  if list1[i] > max:\n",
        "    max = list1[i]\n",
        "    index = i\n",
        "'''for i in range(len(list1)):\n",
        "  if list1[i] == max:\n",
        "    index = i\n",
        "'''\n",
        "print(f\"My list: {list1}\")    \n",
        "print(f\"Largest number in the list is {max} which was found at index {index}.\")"
      ]
    },
    {
      "cell_type": "code",
      "execution_count": null,
      "metadata": {
        "colab": {
          "base_uri": "https://localhost:8080/"
        },
        "id": "tQ968v9nKfE1",
        "outputId": "e0d7d207-f8b9-454c-b89f-28be17f0226f"
      },
      "outputs": [
        {
          "name": "stdout",
          "output_type": "stream",
          "text": [
            "[1, 3, 5, 7, 9, 2, 4, 6, 8]\n",
            "[1, 3, 5, 7, 9, 2, 4, 6, 8]\n"
          ]
        }
      ],
      "source": [
        "#task7\n",
        "\n",
        "list1 = [1, 3, 5, 7, 9, 10]\n",
        "list2 =[2, 4, 6, 8]\n",
        "\n",
        "\n",
        "print(list1[:-1] + list2)\n"
      ]
    },
    {
      "cell_type": "code",
      "execution_count": null,
      "metadata": {
        "colab": {
          "base_uri": "https://localhost:8080/"
        },
        "id": "3eTl2TqbLnHj",
        "outputId": "af0f1c38-2fbf-4273-bca4-385670e5a9e8"
      },
      "outputs": [
        {
          "name": "stdout",
          "output_type": "stream",
          "text": [
            "[2, 4, 6, 8, 10, 12, -14, -16]\n"
          ]
        }
      ],
      "source": [
        "#task8\n",
        "\n",
        "list1 = [1, 2, 3, 4, 5, 6, 7, 8, 9]\n",
        "list2 = [10, 11, 12, -13, -14, -15, -16]\n",
        "list3 =[]\n",
        "\n",
        "for i in range(len(list1)):\n",
        "  if list1[i] % 2==0:\n",
        "    list3.append(list1[i])\n",
        "\n",
        "for j in range(len(list2)):\n",
        "  if list2[j] % 2==0:\n",
        "    list3.append(list2[j])\n",
        "\n",
        "print(list3)"
      ]
    },
    {
      "cell_type": "code",
      "execution_count": null,
      "metadata": {
        "colab": {
          "base_uri": "https://localhost:8080/"
        },
        "id": "cVCI1oCLBcv3",
        "outputId": "b1b8cd0e-bb67-4f22-8c9e-74dcad80064b"
      },
      "outputs": [
        {
          "name": "stdout",
          "output_type": "stream",
          "text": [
            "[2, 4, 6, 8, 10, 12, -14, -16]\n"
          ]
        }
      ],
      "source": [
        "#task8\n",
        "\n",
        "list1 = [1, 2, 3, 4, 5, 6, 7, 8, 9]\n",
        "list2 = [10, 11, 12, -13, -14, -15, -16]\n",
        "\n",
        "list3 =[i for i in list1 if i%2 ==0]\n",
        "list4 =[j for j in list2 if j%2 ==0]\n",
        "\n",
        "print(list3+list4)"
      ]
    },
    {
      "cell_type": "code",
      "execution_count": null,
      "metadata": {
        "colab": {
          "base_uri": "https://localhost:8080/"
        },
        "id": "FE72kRuGb9F9",
        "outputId": "dfb49c14-6a25-44f1-f8f3-fc7ca4578d87"
      },
      "outputs": [
        {
          "name": "stdout",
          "output_type": "stream",
          "text": [
            "Enter string here: 7 12 4 55 96 2 11 61 33 42\n",
            "Original list: [7, 12, 4, 55, 96, 2, 11, 61, 33, 42]\n",
            "Modified list: [7, 55, 11, 61, 33]\n"
          ]
        }
      ],
      "source": [
        "#task9 (without split)\n",
        "str1 = input(\"Enter string here: \")\n",
        "list1 = []\n",
        "word =''\n",
        "\n",
        "for i in str1:\n",
        "  if i ==\" \":\n",
        "    list1.append(word)\n",
        "    word =''\n",
        "  else:\n",
        "    word += i\n",
        "\n",
        "if word:\n",
        "  list1.append(word)\n",
        "\n",
        "list2 =[]\n",
        "\n",
        "for i in list1:\n",
        "  j = int(i)\n",
        "  list2.append(j)\n",
        "\n",
        "list3 =[]\n",
        "for k in list2:\n",
        "  if k%2!=0:\n",
        "    list3.append(k)\n",
        "\n",
        "print(f\"Original list: {list2}\")\n",
        "print(f\"Modified list: {list3}\")"
      ]
    },
    {
      "cell_type": "code",
      "execution_count": null,
      "metadata": {
        "colab": {
          "base_uri": "https://localhost:8080/"
        },
        "id": "0GUrnFsXqx32",
        "outputId": "620b7d38-8d3a-44b6-891d-92f093eb47c3"
      },
      "outputs": [
        {
          "name": "stdout",
          "output_type": "stream",
          "text": [
            "Enter string here: 7 12 4 55 96 2 11 61 33 42\n",
            "Original list: [7, 12, 4, 55, 96, 2, 11, 61, 33, 42]\n",
            "Modified list: [7, 55, 11, 61, 33]\n"
          ]
        }
      ],
      "source": [
        "#task9\n",
        "str1 = input(\"Enter string here: \")\n",
        "list1 = []\n",
        "str2 =''\n",
        "for i in str1:\n",
        "  if i !=' ':\n",
        "    str2+= i\n",
        "  else:\n",
        "    list1.append(int(str2))\n",
        "    str2 =''\n",
        "list1.append(int(str2))\n",
        "\n",
        "#list2 = [int(i) for i in list1]\n",
        "\n",
        "list3 = [i for i in list1 if i%2 !=0]\n",
        "\n",
        "print(f\"Original list: {list1}\")\n",
        "print(f\"Modified list: {list3}\")"
      ]
    },
    {
      "cell_type": "code",
      "execution_count": null,
      "metadata": {
        "colab": {
          "base_uri": "https://localhost:8080/"
        },
        "id": "tcMFjoLmflQh",
        "outputId": "6e1891bf-bb20-4901-8e41-1693df3caa94"
      },
      "outputs": [
        {
          "name": "stdout",
          "output_type": "stream",
          "text": [
            "Enter string here: 0, 0, 1, 2, 3, 4, 4, 5, 6, 6, 6, 7, 8, 9, 4, 4\n",
            "Input list: [0, 0, 1, 2, 3, 4, 4, 5, 6, 6, 6, 7, 8, 9, 4, 4]\n",
            "Modified list: [0, 1, 2, 3, 4, 5, 6, 7, 8, 9]\n"
          ]
        }
      ],
      "source": [
        "#task10\n",
        "\n",
        "str1 = input(\"Enter string here: \")\n",
        "list1 = []\n",
        "word =''\n",
        "\n",
        "for i in str1:\n",
        "  if i ==\",\":\n",
        "    list1.append(word)\n",
        "    word =''\n",
        "  else:\n",
        "    word += i\n",
        "\n",
        "if word:\n",
        "  list1.append(word)\n",
        "\n",
        "list2 =[]\n",
        "\n",
        "for i in list1:\n",
        "  j = int(i)\n",
        "  list2.append(j)\n",
        "\n",
        "list3 = []\n",
        "for k in list2:\n",
        "  if not k in list3:\n",
        "    list3.append(k)\n",
        "\n",
        "print(f\"Input list: {list2}\")\n",
        "print(f\"Modified list: {list3}\")"
      ]
    },
    {
      "cell_type": "code",
      "execution_count": null,
      "metadata": {
        "colab": {
          "base_uri": "https://localhost:8080/"
        },
        "id": "xOlpH4fszg07",
        "outputId": "a709dc66-e013-4b49-a4e2-f960d69f59f7"
      },
      "outputs": [
        {
          "name": "stdout",
          "output_type": "stream",
          "text": [
            "Enter numbers here seprated by commas(,): 0, 0, 1, 2, 3, 4, 4, 5, 6, 6, 6, 7, 8, 9, 4, 4\n",
            "Input list: [0, 0, 1, 2, 3, 4, 4, 5, 6, 6, 6, 7, 8, 9, 4, 4]\n",
            "Modified list: [0, 1, 2, 3, 4, 5, 6, 7, 8, 9]\n"
          ]
        }
      ],
      "source": [
        "#task10\n",
        "\n",
        "list1 = [ \n",
        "         int(i) for i in \n",
        "         input(\"Enter numbers here seprated by commas(,): \").split(',')\n",
        "        ]\n",
        "\n",
        "list3 = []\n",
        "for k in list1:\n",
        "  if k not in list3:\n",
        "    list3.append(k)\n",
        "\n",
        "print(f\"Input list: {list1}\")\n",
        "print(f\"Modified list: {list3}\")"
      ]
    },
    {
      "cell_type": "code",
      "execution_count": null,
      "metadata": {
        "colab": {
          "base_uri": "https://localhost:8080/"
        },
        "id": "8wFPIbbONHrB",
        "outputId": "fd6fadaf-e953-4131-f8c5-8e2cb69629c2"
      },
      "outputs": [
        {
          "name": "stdout",
          "output_type": "stream",
          "text": [
            "True\n"
          ]
        }
      ],
      "source": [
        "#task11\n",
        "\n",
        "list1 = [1, 4, 3, 2, 5]\n",
        "list2 = [8, 7, 6, 9]\n",
        "\n",
        "if (len(list1) > len(list2)) or (len(list1) == len(list2)):\n",
        "  for i in range(len(list1)):\n",
        "    if list1[i] in list2:\n",
        "      val1 = True\n",
        "      break\n",
        "    else:\n",
        "      val1 = False\n",
        "else:\n",
        "  for j in range(len(list2)):\n",
        "    if list2[j] in list1:\n",
        "      val1 = True\n",
        "      break\n",
        "    else:\n",
        "      val1 = False\n",
        "\n",
        "if val1 == True:\n",
        "  print(\"True\")\n",
        "else:\n",
        "  print(\"False\")\n"
      ]
    },
    {
      "cell_type": "code",
      "execution_count": null,
      "metadata": {
        "colab": {
          "base_uri": "https://localhost:8080/"
        },
        "id": "t23XgiPIJy8l",
        "outputId": "a8714468-0546-408e-fc49-bbf2901c5946"
      },
      "outputs": [
        {
          "name": "stdout",
          "output_type": "stream",
          "text": [
            "True\n"
          ]
        }
      ],
      "source": [
        "#Task11\n",
        "\n",
        "list1 = [1,2,3,4]\n",
        "list2 = [4,5,6,7]\n",
        "val1 = False\n",
        "for i in list1:\n",
        "  if i in list2:\n",
        "    val1 = True\n",
        "    break\n",
        "print(\"True\" if val1 == True else \"False\")"
      ]
    },
    {
      "cell_type": "code",
      "execution_count": null,
      "metadata": {
        "colab": {
          "base_uri": "https://localhost:8080/"
        },
        "id": "9pnF5ixOLz4y",
        "outputId": "4a22d7c7-9ed5-40b9-ab35-95cd650eefa9"
      },
      "outputs": [
        {
          "name": "stdout",
          "output_type": "stream",
          "text": [
            "Enter numbers here: 7, 13, 2, 10, 6, -11, 0\n",
            "Second largest number is 10 which was found at index 3.\n"
          ]
        }
      ],
      "source": [
        "#task16\n",
        "\n",
        "list1 = [int(i) for i in input('Enter numbers here: ').split(', ')]\n",
        "list2 = list1[:]\n",
        "max = list1[0]\n",
        "for i in list1:\n",
        "  if i > max:\n",
        "    max = i\n",
        "list1.remove(max)\n",
        "max = list1[0]\n",
        "for i in list1:\n",
        "  if i > max:\n",
        "    max = i\n",
        "for i in range(len(list2)):\n",
        "  if list2[i] == max:\n",
        "    index = i\n",
        "print(f'Second largest number is {max} which was found at index {index}.')"
      ]
    },
    {
      "cell_type": "code",
      "execution_count": null,
      "metadata": {
        "colab": {
          "base_uri": "https://localhost:8080/"
        },
        "id": "Oqh8qYYPjjgn",
        "outputId": "b83b7ed8-e422-4b56-fe11-92db6b70c286"
      },
      "outputs": [
        {
          "name": "stdout",
          "output_type": "stream",
          "text": [
            "Enter 7 numbers here seperated by comma(,) 10, 5, 7, 3\n",
            "0\n",
            "3\n",
            "My list: [10, 5, 7, 3]\n",
            "Smallest number in the list is 3 which was found at index 3.\n",
            "Largest number in the list is 10 which was found at index 0.\n"
          ]
        }
      ],
      "source": [
        "#task17\n",
        "\n",
        "\n",
        "list1 = [\n",
        "         int(i) for i in input(\"Enter 7 numbers here seperated by comma(,) \").split(', ')\n",
        "        ]\n",
        "\n",
        "max = list1[0]\n",
        "min = list1 [0]\n",
        "index = 0\n",
        "ind = 0\n",
        "for i in range(len(list1)):\n",
        "  if list1[i] > max:\n",
        "    max = list1[i]\n",
        "    index = i\n",
        "  elif list1[i] < min:\n",
        "    min = list1[i]\n",
        "    ind = i\n",
        "\n",
        "print(f\"My list: {list1}\")    \n",
        "print(f\"Smallest number in the list is {min} which was found at index {ind}.\")\n",
        "print(f\"Largest number in the list is {max} which was found at index {index}.\")"
      ]
    },
    {
      "cell_type": "code",
      "execution_count": null,
      "metadata": {
        "colab": {
          "base_uri": "https://localhost:8080/"
        },
        "id": "sgzLRg76rnZQ",
        "outputId": "e530d280-015d-4bba-c7b8-734688559362"
      },
      "outputs": [
        {
          "name": "stdout",
          "output_type": "stream",
          "text": [
            "Enter list here: 1, 3, A, H, P\n",
            "Enter list here: A, G, 1, P, O\n",
            "['1', 'A', 'P']\n"
          ]
        }
      ],
      "source": [
        "#task18\n",
        "\n",
        "list1 = input('Enter list here: ').split(', ')\n",
        "list2 = input('Enter list here: ').split(', ')\n",
        "list3 = []\n",
        "\n",
        "for i in list1:\n",
        "  if i in list2 and i not in list3:\n",
        "    list3.append(i)\n",
        "\n",
        "print(list3)"
      ]
    },
    {
      "cell_type": "code",
      "execution_count": null,
      "metadata": {
        "colab": {
          "base_uri": "https://localhost:8080/"
        },
        "id": "lVOiWoRzr6ve",
        "outputId": "7e76dabc-50bd-4b6f-b647-5e0eb3fce8f7"
      },
      "outputs": [
        {
          "name": "stdout",
          "output_type": "stream",
          "text": [
            "[1, 2, 4, 5, 7, 99, 200, 303, 70, 3, 500, -5]\n"
          ]
        }
      ],
      "source": [
        "#task19 \n",
        "\n",
        "list1 = [1, 2, 2, 4, 5, 5, 7, 99, 200, 303, 70]\n",
        "list2 = [1, 1, 2, 3, 3, 3, 4, 5, 200, 500, -5]\n",
        "list3 = list1 + list2\n",
        "list4 = []\n",
        "\n",
        "for i in list3:\n",
        "  if i not in list4:\n",
        "    list4.append(i)\n",
        "  \n",
        "\n",
        "print(list4)"
      ]
    },
    {
      "cell_type": "code",
      "execution_count": null,
      "metadata": {
        "colab": {
          "base_uri": "https://localhost:8080/"
        },
        "id": "m1M2-H3nyBpp",
        "outputId": "8c4008a4-701e-4280-c184-34ab384ba2d2"
      },
      "outputs": [
        {
          "name": "stdout",
          "output_type": "stream",
          "text": [
            "Enter string here:         [1, 2 , 3,      50, 4]        \n",
            "Original data:         [1, 2 , 3,      50, 4]        \n",
            "After removing square brackets: 1, 2 , 3,      50, 4\n",
            "Numbers in string format with extra white spaces: ['1', '2 ', '3', '     50', '4']\n",
            "Final data (numbers in list format): [1, 2, 3, 50, 4]\n"
          ]
        }
      ],
      "source": [
        "#task20\n",
        "\n",
        "str1 = input(\"Enter string here: \")\n",
        "str2 = str1\n",
        "\n",
        "str3 = str1\n",
        "print(f\"Original data: {str1}\")\n",
        "\n",
        "str3 = (str1.lstrip(' [')).rstrip('] ')\n",
        "\n",
        "print(f\"After removing square brackets: {str3}\")\n",
        "\n",
        "str1 = (str1.lstrip(' [')).rstrip('] ')\n",
        "\n",
        "list2 = [i for i in str1.split(', ') ]\n",
        "print(f'Numbers in string format with extra white spaces: {list2}')\n",
        "list1 = [int(i) for i in (str2.strip('[ ]')).split(', ') ]\n",
        "\n",
        "print(f\"Final data (numbers in list format): {list1}\")"
      ]
    },
    {
      "cell_type": "code",
      "execution_count": null,
      "metadata": {
        "colab": {
          "base_uri": "https://localhost:8080/"
        },
        "id": "x6i2IT9KMG3k",
        "outputId": "7c9d746f-425f-4c25-b901-26f76f84d6ee"
      },
      "outputs": [
        {
          "name": "stdout",
          "output_type": "stream",
          "text": [
            "Enter number here: 0, 0, 1, 2, 3, 4, 4, 5, 6, 6, 6, 7, 8, 9, 4, 4\n",
            "Given numbers in list:[0, 0, 1, 2, 3, 4, 4, 5, 6, 6, 6, 7, 8, 9, 4, 4]\n",
            "List without any dupliacte values:[0, 1, 2, 3, 4, 5, 6, 7, 8, 9]\n"
          ]
        }
      ],
      "source": [
        "#task21\n",
        "\n",
        "list1 = [int(i) for i in (input(\"Enter number here: \").strip(' ')).split(', ') ]\n",
        "\n",
        "list2 = []\n",
        "for i in list1:\n",
        " if i not in list2:\n",
        "  list2.append(i)\n",
        "\n",
        "\n",
        "print(f\"Given numbers in list:{list1}\")\n",
        "print(f\"List without any dupliacte values:{list2}\")"
      ]
    }
  ],
  "metadata": {
    "colab": {
      "collapsed_sections": [],
      "provenance": []
    },
    "kernelspec": {
      "display_name": "Python 3",
      "name": "python3"
    },
    "language_info": {
      "name": "python"
    }
  },
  "nbformat": 4,
  "nbformat_minor": 0
}
