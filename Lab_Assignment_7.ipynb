{
 "cells": [
  {
   "cell_type": "code",
   "execution_count": 2,
   "metadata": {},
   "outputs": [
    {
     "name": "stdout",
     "output_type": "stream",
     "text": [
      "[4, 5, 34, 56, 73]\n"
     ]
    }
   ],
   "source": [
    "#Task1\n",
    "\n",
    "l1 = [4,5,73,34,56]\n",
    "\n",
    "for i in range(len(l1)-1):\n",
    "    for j in range(len(l1)-i-1):\n",
    "        if l1[j] > l1[j+1]:\n",
    "            l1[j],l1[j+1] = l1[j+1], l1[j]\n",
    "print(l1)"
   ]
  },
  {
   "cell_type": "code",
   "execution_count": 23,
   "metadata": {},
   "outputs": [
    {
     "name": "stdout",
     "output_type": "stream",
     "text": [
      "[1, 2, 2, 3, 5, 6, 10, 11, 12, 14, 15, 17, 18, 20, 29]\n"
     ]
    }
   ],
   "source": [
    "#Task2\n",
    "\n",
    "l1 = [10, 1, 20, 3, 6, 2, 5, 11, 15, 2, 12, 14, 17, 18, 29]\n",
    "\n",
    "for i in range(len(l1)):\n",
    "    mini = l1[i]\n",
    "    min_ind = i\n",
    "    for j in range(i+1,len(l1)):\n",
    "        if mini > l1[j]:\n",
    "            mini = l1[j]\n",
    "            min_ind = j\n",
    "    l1[min_ind], l1[i] = l1[i], mini\n",
    "\n",
    "print(l1)"
   ]
  },
  {
   "cell_type": "code",
   "execution_count": 1,
   "metadata": {},
   "outputs": [
    {
     "name": "stdout",
     "output_type": "stream",
     "text": [
      "[29, 20, 18, 17, 15, 14, 12, 11, 10, 6, 5, 3, 2, 2, 1]\n"
     ]
    }
   ],
   "source": [
    "#Task3\n",
    "\n",
    "l1 = [10, 1, 20, 3, 6, 2, 5, 11, 15, 2, 12, 14, 17, 18, 29]\n",
    "\n",
    "for i in range(len(l1)-1):\n",
    "    for j in range(len(l1)-i-1):\n",
    "        if l1[j] < l1[j+1]:\n",
    "            l1[j],l1[j+1] = l1[j+1], l1[j]\n",
    "print(l1)"
   ]
  },
  {
   "cell_type": "code",
   "execution_count": 5,
   "metadata": {},
   "outputs": [
    {
     "name": "stdout",
     "output_type": "stream",
     "text": [
      "[10, 100, 11, 80, 12, 70, 20, 56, 22, 30, 58, 16, 70, 15]\n"
     ]
    }
   ],
   "source": [
    "#Task4\n",
    "\n",
    "l1 = [10,30,20,70,11,15,22,16,58,100,12,56,70,80]\n",
    "even = l1[::2]\n",
    "odd = l1[1::2]\n",
    "\n",
    "for i in range(len(even)-1):\n",
    "    for j in range(len(even)-i-1):\n",
    "        if even[j] > even[j+1]:\n",
    "            even[j],even[j+1] = even[j+1], even[j]\n",
    "\n",
    "for i in range(len(odd)-1):\n",
    "    for j in range(len(odd)-i-1):\n",
    "        if odd[j] < odd[j+1]:\n",
    "            odd[j],odd[j+1] = odd[j+1], odd[j]\n",
    "\n",
    "l3 = []\n",
    "\n",
    "for i in range(len(even)):\n",
    "    l3.append(even[i])\n",
    "    l3.append(odd[i])\n",
    "print(l3)"
   ]
  },
  {
   "cell_type": "code",
   "execution_count": null,
   "metadata": {},
   "outputs": [],
   "source": [
    "#Task5\n",
    "\n",
    "str1 = input().upper()\n",
    "\n",
    "def descending(odd):\n",
    "    for i in range(len(odd)-1):\n",
    "        for j in range(len(odd)-i-1):\n",
    "            if odd[j] < odd[j+1]:\n",
    "                odd[j],odd[j+1] = odd[j+1], odd[j]\n",
    "    return odd\n",
    "\n",
    "def finder(i,l1):\n",
    "    for j in range(len(l1)):\n",
    "        if i == l1[j]:\n",
    "            break\n",
    "    return j\n",
    "\n",
    "l1 = [[\"Alan\",95,87,91],[\"Turing\",92,90,83],[\"Elon\",87,92,80],[\"Musk\",85,94,90]]\n",
    "cse110 = []\n",
    "phy111 = []\n",
    "mat110 = []\n",
    "names = []\n",
    "for i in range(len(l1)):\n",
    "    names.append(l1[i][0])\n",
    "    cse110.append(l1[i][1])\n",
    "    phy111.append(l1[i][2])\n",
    "    mat110.append(l1[i][3])\n",
    "\n",
    "sort_cse110 = cse110[:]\n",
    "sort_phy111 = phy111[:]\n",
    "sort_mat110 = mat110[:]\n",
    "\n",
    "l2 = []\n",
    "\n",
    "\n",
    "if str1 == 'CSE110':\n",
    "    descending(sort_cse110)\n",
    "    for i in sort_cse110:\n",
    "        name = finder(i,cse110)\n",
    "        l2.append(names[name])\n",
    "if str1 == 'PHY111':\n",
    "    descending(sort_phy111)\n",
    "    for i in sort_phy111:\n",
    "        name = finder(i,phy111)\n",
    "        l2.append(names[name])\n",
    "if str1 == 'MAT110':\n",
    "    descending(sort_mat110)\n",
    "    for i in sort_mat110:\n",
    "        name = finder(i,mat110)\n",
    "        l2.append(names[name])\n",
    "\n",
    "for i in l2:\n",
    "    print(i)"
   ]
  },
  {
   "cell_type": "code",
   "execution_count": 4,
   "metadata": {},
   "outputs": [
    {
     "name": "stdout",
     "output_type": "stream",
     "text": [
      "4\n"
     ]
    }
   ],
   "source": [
    "#Task6\n",
    "\n",
    "l1 = [4, 2, 3, 1, 6, 5]\n",
    "l2 = l1[:]\n",
    "count = 0\n",
    "for i in range(len(l1)-1):\n",
    "    for j in range(len(l1)-i-1):\n",
    "        if l1[j] > l1[j+1]:\n",
    "            l1[j],l1[j+1] = l1[j+1], l1[j]\n",
    "            \n",
    "for i in range(len(l2)):\n",
    "    if l1[i] != l2[i]:\n",
    "        count += 1\n",
    "\n",
    "print(count)"
   ]
  },
  {
   "cell_type": "code",
   "execution_count": 5,
   "metadata": {},
   "outputs": [
    {
     "name": "stdout",
     "output_type": "stream",
     "text": [
      "Sorted list = [1, 2, 5, 6, 7, 7, 9, 10]\n",
      "Median = 6.5\n"
     ]
    }
   ],
   "source": [
    "#Task7\n",
    "l1 = [int(i) for i in input()[1:-1].split(',')]\n",
    "l2 = [int(i) for i in input()[1:-1].split(',')]\n",
    "\n",
    "\n",
    "l3 = l1+l2\n",
    "\n",
    "for i in range(len(l3)-1):\n",
    "    for j in range(len(l3)-i-1):\n",
    "        if l3[j] > l3[j+1]:\n",
    "            l3[j],l3[j+1] = l3[j+1], l3[j]\n",
    "\n",
    "if len(l3) %2 == 0:\n",
    "    median = (l3[(len(l3)//2)-1] + l3[(len(l3)//2)]) / 2\n",
    "else:\n",
    "    median = l3[len(l3)//2]\n",
    "\n",
    "print(f\"Sorted list = {l3}\")\n",
    "print(f\"Median = {median}\")"
   ]
  },
  {
   "cell_type": "code",
   "execution_count": 11,
   "metadata": {},
   "outputs": [
    {
     "name": "stdout",
     "output_type": "stream",
     "text": [
      "Two pairs which have the smallest sum = 4 and -7\n"
     ]
    }
   ],
   "source": [
    "#Task8\n",
    "\n",
    "l1 = [int(i) for i in input()[1:-1].split(',')]\n",
    "mini = 999999999999\n",
    "\n",
    "for i in l1:\n",
    "    for j in l1:\n",
    "        if i != j:\n",
    "            smallest = i + j\n",
    "            if abs(smallest) < mini:\n",
    "                mini = abs(smallest)\n",
    "                x,y = i,j\n",
    "\n",
    "print(f'Two pairs which have the smallest sum = {x} and {y}')"
   ]
  },
  {
   "cell_type": "code",
   "execution_count": 30,
   "metadata": {},
   "outputs": [
    {
     "name": "stdout",
     "output_type": "stream",
     "text": [
      "Minimum distance = 1.4142135623730951\n",
      "Here the closest point is (1, 1) which has a distance of 1.4142135623730951 from the orgin\n"
     ]
    }
   ],
   "source": [
    "#Task9\n",
    "\n",
    "points = [(1,7),(2,9),(-1,7),(-2,0),(1,1),(5,-1)]\n",
    "minimum = 99999999999\n",
    "\n",
    "for i in points:\n",
    "    distance = (i[0]**2 + i[1]**2) ** 0.5\n",
    "    if distance < minimum:\n",
    "        minimum = distance\n",
    "        coordinates = i\n",
    "\n",
    "\n",
    "print(f\"Minimum distance = {minimum}\")\n",
    "print(f\"Here the closest point is {coordinates} which has a distance\\\n",
    " of {minimum} from the orgin\")"
   ]
  }
 ],
 "metadata": {
  "kernelspec": {
   "display_name": "Python 3.10.5 64-bit",
   "language": "python",
   "name": "python3"
  },
  "language_info": {
   "codemirror_mode": {
    "name": "ipython",
    "version": 3
   },
   "file_extension": ".py",
   "mimetype": "text/x-python",
   "name": "python",
   "nbconvert_exporter": "python",
   "pygments_lexer": "ipython3",
   "version": "3.10.5"
  },
  "orig_nbformat": 4,
  "vscode": {
   "interpreter": {
    "hash": "18c7192e6171d4d6c625c2d9481f295daeef27a536cb9f371eb8bc23c4bce28d"
   }
  }
 },
 "nbformat": 4,
 "nbformat_minor": 2
}
