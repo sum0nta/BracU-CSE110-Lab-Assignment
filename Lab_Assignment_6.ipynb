{
 "cells": [
  {
   "cell_type": "code",
   "execution_count": null,
   "metadata": {},
   "outputs": [],
   "source": [
    "#Task1\n",
    "\n",
    "def even_checker(num):\n",
    "    if num%2 == 0:\n",
    "        print(\"Even!\")\n",
    "    else:\n",
    "        print(\"Odd!\")\n",
    "\n",
    "even_checker(2)"
   ]
  },
  {
   "cell_type": "code",
   "execution_count": 1,
   "metadata": {},
   "outputs": [
    {
     "name": "stdout",
     "output_type": "stream",
     "text": [
      "0 1 1 2 3 5 8 "
     ]
    }
   ],
   "source": [
    "#Task2\n",
    "\n",
    "def fibonacci(n):\n",
    "    first = 0\n",
    "    second = 1\n",
    "    print(first, second, end = ' ')\n",
    "    for i in range(n):\n",
    "        third = first + second\n",
    "        if third <= n:\n",
    "            print(third, end = ' ')\n",
    "        else:\n",
    "            break\n",
    "        first = second\n",
    "        second = third\n",
    "        \n",
    "fibonacci(10)\n"
   ]
  },
  {
   "cell_type": "code",
   "execution_count": 2,
   "metadata": {},
   "outputs": [
    {
     "name": "stdout",
     "output_type": "stream",
     "text": [
      "0 1 1 2 3 5 8 13 21 34 55 89 144 233 377 610 987 "
     ]
    }
   ],
   "source": [
    "\n",
    "def fibonacci(n):\n",
    "    first = 0\n",
    "    second = 1\n",
    "    print(first, second, end = ' ')\n",
    "    third = first + second\n",
    "    while third <= n:\n",
    "        third = first + second\n",
    "        if third <= n:\n",
    "            print(third, end = ' ')\n",
    "            first = second \n",
    "            second = third\n",
    "        \n",
    "fibonacci(1000)"
   ]
  },
  {
   "cell_type": "code",
   "execution_count": 3,
   "metadata": {},
   "outputs": [
    {
     "name": "stdout",
     "output_type": "stream",
     "text": [
      "FooMoo\n"
     ]
    }
   ],
   "source": [
    "#Task3\n",
    "\n",
    "def foo_moo(num):\n",
    "    if num%2 == 0 and num%3 == 0:\n",
    "        return \"FooMoo\"\n",
    "    elif num%2 == 0:\n",
    "        return \"Foo\"\n",
    "    elif num%3 == 0:\n",
    "        return \"Moo\"\n",
    "    else:\n",
    "        return \"Boo\"\n",
    "\n",
    "function = foo_moo(6)\n",
    "print(function)"
   ]
  },
  {
   "cell_type": "code",
   "execution_count": null,
   "metadata": {},
   "outputs": [],
   "source": [
    "#Task4\n",
    "\n",
    "def count(str1):\n",
    "    lower = 0\n",
    "    upper = 0\n",
    "    for i in str1:\n",
    "        if ord('a') <= ord(i) <= ord(\"z\"):\n",
    "            lower += 1\n",
    "        if ord('A') <= ord(i) <= ord(\"Z\"):\n",
    "            upper += 1\n",
    "    print(f\"No. of Uppercase characters : {upper}\")\n",
    "    print(f\"No. of Lowercase Characters: {lower}\")\n",
    "\n",
    "count('HaRRy PotteR')"
   ]
  },
  {
   "cell_type": "code",
   "execution_count": null,
   "metadata": {},
   "outputs": [],
   "source": [
    "#Task5\n",
    "\n",
    "def calculate_tax(age,sal,des):\n",
    "    if age < 18 or des == 'president' or sal < 10000:\n",
    "        return 0\n",
    "    elif 10000 <= sal <= 20000:\n",
    "        return sal*0.05\n",
    "    elif sal > 20000:\n",
    "        return sal * 0.1\n",
    "\n",
    "age = int(input(\"Age: \"))\n",
    "salary = int(input(\"Salary: \"))\n",
    "designation = input(\"designation: \").lower()\n",
    "\n",
    "tax = calculate_tax(age,salary,designation)\n",
    "\n",
    "print(tax)"
   ]
  },
  {
   "cell_type": "code",
   "execution_count": null,
   "metadata": {},
   "outputs": [],
   "source": [
    "#Task6\n",
    "\n",
    "def time(day):\n",
    "    year = day // 365\n",
    "    day = day % 365\n",
    "    month = day // 30\n",
    "    day = day % 30\n",
    "    print(f\"{year} years, {month} months and {day} days \")\n",
    "\n",
    "date = int(input(\"Date: \"))\n",
    "time(date)"
   ]
  },
  {
   "cell_type": "code",
   "execution_count": 9,
   "metadata": {},
   "outputs": [
    {
     "name": "stdout",
     "output_type": "stream",
     "text": [
      "12321\n"
     ]
    }
   ],
   "source": [
    "#Task7\n",
    "\n",
    "def show_palindrome(n):\n",
    "    str1 = ''\n",
    "    for i in range(1,n+1):\n",
    "        str1 += str(i)\n",
    "    for i in range(n-1,0,-1):\n",
    "        str1+= str(i) \n",
    "    return str1\n",
    "pal = show_palindrome(3)\n",
    "print(pal)"
   ]
  },
  {
   "cell_type": "code",
   "execution_count": 2,
   "metadata": {},
   "outputs": [
    {
     "name": "stdout",
     "output_type": "stream",
     "text": [
      "              1 \n",
      "            1 2 1 \n",
      "          1 2 3 2 1 \n",
      "        1 2 3 4 3 2 1 \n",
      "      1 2 3 4 5 4 3 2 1 \n",
      "    1 2 3 4 5 6 5 4 3 2 1 \n",
      "  1 2 3 4 5 6 7 6 5 4 3 2 1 \n",
      "1 2 3 4 5 6 7 8 7 6 5 4 3 2 1 \n"
     ]
    }
   ],
   "source": [
    "#Task8\n",
    "\n",
    "def show_palindrome(n):\n",
    "    str1 = ''\n",
    "    for i in range(1,n+1):\n",
    "        str1 +=  str(i)\n",
    "    for i in range(n-1,0,-1):\n",
    "        str1 += str(i)\n",
    "    return str1\n",
    "\n",
    "\n",
    "def show_palindromic_triangle(n):\n",
    "    for i in range(1,n+1):\n",
    "        f = show_palindrome(i)\n",
    "        str3 = \" \" * (n-i)*2\n",
    "        print(str3,end ='')\n",
    "        for i in f:\n",
    "            print(i,end = ' ')\n",
    "        print()\n",
    "\n",
    "show_palindromic_triangle(8)"
   ]
  },
  {
   "cell_type": "code",
   "execution_count": 13,
   "metadata": {},
   "outputs": [
    {
     "name": "stdout",
     "output_type": "stream",
     "text": [
      "Area of the circle is 3.141592653589793 and circumference is 6.283185307179586\n"
     ]
    }
   ],
   "source": [
    "#Task9\n",
    "from math import pi\n",
    "def area_circumference_generator(r):\n",
    "    return ((pi * r**2),(2*pi*r))\n",
    "\n",
    "circle = area_circumference_generator(1)\n",
    "area,circum = circle\n",
    "print(f\"Area of the circle is {area} and circumference is {circum}\")"
   ]
  },
  {
   "cell_type": "code",
   "execution_count": 14,
   "metadata": {},
   "outputs": [
    {
     "name": "stdout",
     "output_type": "stream",
     "text": [
      "{1: 1, 2: 4, 3: 9}\n"
     ]
    }
   ],
   "source": [
    "#Task10\n",
    "\n",
    "def make_square(tuple1):\n",
    "    start,end = tuple1\n",
    "    dict1 = {}\n",
    "    for i in range(start,end+1):\n",
    "        dict1[i] = i**2\n",
    "\n",
    "    return dict1\n",
    "\n",
    "dict2 = make_square((1,3))\n",
    "print(dict2)"
   ]
  },
  {
   "cell_type": "code",
   "execution_count": null,
   "metadata": {},
   "outputs": [],
   "source": [
    "#Task11\n",
    "\n",
    "def rem_duplicate(n):\n",
    "    l1 = []\n",
    "    for i in n:\n",
    "        if i not in l1:\n",
    "            l1.append(i)\n",
    "\n",
    "    return tuple(l1)\n",
    "\n",
    "dup = rem_duplicate((\"Hi\", 1, 2, 3, 3, \"Hi\",'a', 'a', [1,2]))\n",
    "print(dup)"
   ]
  },
  {
   "cell_type": "code",
   "execution_count": 15,
   "metadata": {},
   "outputs": [
    {
     "name": "stdout",
     "output_type": "stream",
     "text": [
      "Removed: 0\n",
      "[10, 10, 15, 15, 20]\n"
     ]
    }
   ],
   "source": [
    "#Task12\n",
    "\n",
    "def maxlist(l1):\n",
    "    list_name = []\n",
    "    removed = 0\n",
    "    count = 0\n",
    "    for i in range(len(l1)):\n",
    "        if l1.count(l1[i]) <= 2:\n",
    "            list_name.append(l1[i])\n",
    "        else:\n",
    "            if l1[i] not in list_name:\n",
    "                removed += l1.count(l1[i]) - 2 \n",
    "            while count < 2:\n",
    "                list_name.append(l1[i])\n",
    "                count+= 1\n",
    "        \n",
    "        \n",
    "    return list_name,removed\n",
    "\n",
    "numbers = maxlist([10, 10, 15, 15, 20])\n",
    "l2,removed = numbers\n",
    "print(f\"Removed: {removed}\")\n",
    "print(l2)"
   ]
  },
  {
   "cell_type": "code",
   "execution_count": 9,
   "metadata": {},
   "outputs": [
    {
     "name": "stdout",
     "output_type": "stream",
     "text": [
      "12\n"
     ]
    }
   ],
   "source": [
    "#Task13\n",
    "\n",
    "def calculation(operator,n1,n2):\n",
    "    if operator == '+':\n",
    "        return n1 + n2\n",
    "    elif operator == '-':\n",
    "        return n1 - n2\n",
    "    elif operator == '/':\n",
    "        return n1 / n2\n",
    "    elif operator == '*':\n",
    "        return n1 * n2\n",
    "\n",
    "operator = input('Operator: ')\n",
    "first = int(input('First: '))\n",
    "second = int(input('Second: '))\n",
    "\n",
    "result = calculation(operator,first,second)\n",
    "print(result)"
   ]
  },
  {
   "cell_type": "code",
   "execution_count": 20,
   "metadata": {},
   "outputs": [
    {
     "name": "stdout",
     "output_type": "stream",
     "text": [
      "I lveprgrmmngo oai.\n"
     ]
    }
   ],
   "source": [
    "#Task14\n",
    "\n",
    "def function_name(str1,num):\n",
    "    str2 = ''\n",
    "    str3 = ''\n",
    "    for i in range(len(str1)):\n",
    "        if i == 0:\n",
    "            str2 += str1[i]\n",
    "        elif (i % num != 0) :\n",
    "            str2 += str1[i] \n",
    "        else:\n",
    "            str3 += str1[i]\n",
    "    return str2 + str3\n",
    "\n",
    "\n",
    "sentence = input(\"Sentence: \")\n",
    "position = int(input(\"Position: \"))\n",
    "new = function_name(sentence, position)\n",
    "print(new)"
   ]
  },
  {
   "cell_type": "code",
   "execution_count": 6,
   "metadata": {},
   "outputs": [
    {
     "name": "stdout",
     "output_type": "stream",
     "text": [
      "790\n"
     ]
    }
   ],
   "source": [
    "#Task15\n",
    "\n",
    "def order(order_items,location = \"Dhanmondi\"):\n",
    "    total = 0\n",
    "    items = {\"Rice\":105, \"Potato\":20, \"Chicken\":250, \"Beef\":510, \"Oil\":85 }\n",
    "    for i in order_items:\n",
    "        total += items[i]\n",
    "    if location == \"Dhanmondi\":\n",
    "        total += 30\n",
    "    else:\n",
    "        total += 70\n",
    "    return total\n",
    "l1 = [i for i in input().split(', ')]\n",
    "location = input(\"Location: \")\n",
    "groceries = order(l1,location)\n",
    "print(groceries)"
   ]
  },
  {
   "cell_type": "code",
   "execution_count": 3,
   "metadata": {},
   "outputs": [
    {
     "name": "stdout",
     "output_type": "stream",
     "text": [
      "500 Taka: 10 note(s)\n",
      "100 Taka: 3 note(s)\n",
      "20 Taka: 2 note(s)\n"
     ]
    }
   ],
   "source": [
    "#Task16\n",
    "\n",
    "def splitting_money(amount):\n",
    "    str1 = ''\n",
    "    fiveh = amount // 500\n",
    "    amount = amount % 500\n",
    "    hundred = amount // 100\n",
    "    amount = amount % 100\n",
    "    fifty = amount // 50\n",
    "    amount = amount % 50\n",
    "    twenty = amount // 20\n",
    "    amount = amount % 20\n",
    "    ten = amount // 10\n",
    "    amount = amount % 10\n",
    "    two = amount // 2\n",
    "    amount = amount % 2\n",
    "    if fiveh != 0:\n",
    "        str1 += f'500 Taka: {fiveh} note(s)'\n",
    "    if hundred != 0:\n",
    "        str1 += f'\\n100 Taka: {hundred} note(s)'\n",
    "    if fifty != 0:\n",
    "        str1 += f'\\n50 Taka: {fifty} note(s)'\n",
    "    if twenty != 0:\n",
    "        str1 += f'\\n20 Taka: {twenty} note(s)'\n",
    "    if ten != 0:\n",
    "        str1 += f'\\n10 Taka: {ten} note(s)'\n",
    "    if two != 0:\n",
    "        str1 += f'\\n2 Taka: {two} note(s)'\n",
    "    if amount != 0:\n",
    "        one = amount // 1\n",
    "        if one > 0:\n",
    "            str1 += f'\\n1 Taka {one} note(s)'\n",
    "    return str1\n",
    "new = splitting_money(5340)\n",
    "print(new)"
   ]
  },
  {
   "cell_type": "code",
   "execution_count": null,
   "metadata": {},
   "outputs": [],
   "source": [
    "#Task17\n",
    "\n",
    "def remove_odd(l1):\n",
    "    l2 = []\n",
    "    for i in l1:\n",
    "        if i % 2 ==0:\n",
    "            l2.append(i)\n",
    "    return l2\n",
    "\n",
    "new = remove_odd ([11,2,3,4,5,2,0,5,3])\n",
    "print(new)"
   ]
  },
  {
   "cell_type": "code",
   "execution_count": null,
   "metadata": {},
   "outputs": [],
   "source": [
    "#Task18\n",
    "\n",
    "def divisor(start,end,first,second):\n",
    "    total = 0\n",
    "    for i in range(start,end):\n",
    "        if (i % first == 0) ^ (i % second == 0):\n",
    "            total += i\n",
    "\n",
    "    return total\n",
    "\n",
    "start = int(input(\"Enter starting value here: \"))\n",
    "end = int(input(\"Enter ending value here: \"))\n",
    "first = int(input(\"Enter first divisor here: \"))\n",
    "second = int(input(\"Enter second divisor here: \"))\n",
    "\n",
    "new = divisor(start,end,first,second)\n",
    "print(new)\n"
   ]
  },
  {
   "cell_type": "code",
   "execution_count": 22,
   "metadata": {},
   "outputs": [
    {
     "name": "stdout",
     "output_type": "stream",
     "text": [
      "PSG will win the Champions League this season\n",
      "PSG will win the Champions League this season\n",
      "PSG will win the Champions League this season\n",
      "PSG will win the Champions League this season\n",
      "PSG will win the Champions League this season\n",
      "PSG will win the Champions League this season\n"
     ]
    }
   ],
   "source": [
    "#Task19\n",
    "\n",
    "def alpha_check(str1):\n",
    "    str1 = str1.lower()\n",
    "\n",
    "    l1 = ['a','b','c','d','e','f','g','h','i','j']\n",
    "\n",
    "    flag = True\n",
    "    for i in l1:\n",
    "        if i not in str1:\n",
    "            flag = False\n",
    "            break\n",
    "    if flag == False:\n",
    "        return 6\n",
    "    else:\n",
    "        return 5\n",
    "new = alpha_check(\"ABBCDEFEFGHI\")\n",
    "for i in range(new):\n",
    "    print('PSG will win the Champions League this season')"
   ]
  },
  {
   "cell_type": "code",
   "execution_count": null,
   "metadata": {},
   "outputs": [],
   "source": [
    "#Task20\n",
    "\n",
    "def individul_bonus_calculation(name,earning,goal,percentage):\n",
    "    bonus = goal * ((percentage/100)*earning)\n",
    "    if goal > 30:\n",
    "        bonus += 10000\n",
    "    elif 20 <= goal <= 30:\n",
    "        bonus += 5000\n",
    "    print(f\"{name} earned a bonus of {bonus} taka for {goal} goals.\")\n",
    "\n",
    "individul_bonus_calculation('Jamal', 700000, 19, 8)"
   ]
  },
  {
   "cell_type": "code",
   "execution_count": 1,
   "metadata": {},
   "outputs": [
    {
     "name": "stdout",
     "output_type": "stream",
     "text": [
      "Neymar earned a bonus of 2110000.0 taka for 35 goals.\n",
      "Jamal earned a bonus of 1064000.0 taka for 19 goals.\n",
      "Luis earned a bonus of 205000.0 taka for 25 goals.\n"
     ]
    }
   ],
   "source": [
    "#Task21\n",
    "\n",
    "def function(*args):\n",
    "    total = len(args) // 4\n",
    "    l2 = []\n",
    "    for i in args:\n",
    "        l2.append(i)\n",
    "    \n",
    "    for i in range(total):\n",
    "        count = 0\n",
    "      \n",
    "        while count < 1:\n",
    "            l1 = []\n",
    "            for i in l2[:4]:\n",
    "                l1.append(i)\n",
    "                count += 1\n",
    "        l2 = l2[4:]\n",
    "        name, salary, goals, percentage = l1[0], l1[1], l1[2], l1[3]\n",
    "        def individul_bonus_calculation(name,earning,goal,percentage):\n",
    "            bonus = goal * ((percentage/100)*earning)\n",
    "            if goal > 30:\n",
    "                bonus += 10000\n",
    "            elif 20 <= goal <= 30:\n",
    "                bonus += 5000\n",
    "            print(f\"{name} earned a bonus of {bonus} taka for {goal} goals.\")\n",
    "        individul_bonus_calculation(name,salary,goals,percentage)\n",
    "\n",
    "function(\"Neymar\", 1200000, 35, 5, 'Jamal', 700000, 19, 8, 'Luis', 80000, 25, 10)"
   ]
  }
 ],
 "metadata": {
  "kernelspec": {
   "display_name": "Python 3.10.6 64-bit (windows store)",
   "language": "python",
   "name": "python3"
  },
  "language_info": {
   "codemirror_mode": {
    "name": "ipython",
    "version": 3
   },
   "file_extension": ".py",
   "mimetype": "text/x-python",
   "name": "python",
   "nbconvert_exporter": "python",
   "pygments_lexer": "ipython3",
   "version": "3.10.7"
  },
  "orig_nbformat": 4,
  "vscode": {
   "interpreter": {
    "hash": "4993f6ced84077d870cd758d9024741312bad0555aefa09e203e955babc611c9"
   }
  }
 },
 "nbformat": 4,
 "nbformat_minor": 2
}
