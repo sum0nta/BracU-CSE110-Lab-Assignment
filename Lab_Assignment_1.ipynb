{
  "cells": [
    {
      "cell_type": "code",
      "execution_count": null,
      "metadata": {
        "id": "GUg5fbP5JyzO"
      },
      "outputs": [],
      "source": [
        "#task1\n",
        "\n",
        "var1 = int(input(\"Enter first number here: \"))\n",
        "var2 = int(input(\"Enter second number here: \"))\n",
        "\n",
        "total = var1 + var2\n",
        "product = var1 * var2\n",
        "diffrence = var1 -var2\n",
        "\n",
        "print(\"Sum =\",total)\n",
        "print(\"Product =\",product)\n",
        "print(\"Diffrence =\",diffrence)"
      ]
    },
    {
      "cell_type": "code",
      "execution_count": null,
      "metadata": {
        "id": "LES7I9nmJ342"
      },
      "outputs": [],
      "source": [
        "#task2\n",
        "import math\n",
        "radius = float(input(\"Enter radius here: \"))\n",
        "\n",
        "area = math.pi* (radius**2)\n",
        "circumference = 2*math.pi*radius\n",
        "\n",
        "print(\"Area is\",area)\n",
        "print(\"Circumference is\",circumference)"
      ]
    },
    {
      "cell_type": "code",
      "execution_count": null,
      "metadata": {
        "id": "jDcsGxk6J5j-"
      },
      "outputs": [],
      "source": [
        "#task3\n",
        "\n",
        "num_1 = int(input(\"Enter first number here: \"))\n",
        "\n",
        "num_2 = int(input(\"Enter second number here: \"))\n",
        "\n",
        "if num_1 > num_2:\n",
        "  print(\"First is greater\")\n",
        "\n",
        "elif num_1 < num_2:\n",
        "  print(\"Second is greater\")\n",
        "\n",
        "else:\n",
        "  print(\"The numbers are equal\")"
      ]
    },
    {
      "cell_type": "code",
      "execution_count": null,
      "metadata": {
        "id": "ld8w_AJ7J78m"
      },
      "outputs": [],
      "source": [
        "#task4\n",
        "\n",
        "num_1 = int(input(\"Enter first number here: \"))\n",
        "\n",
        "num_2 = int(input(\"Enter second number here: \"))\n",
        "\n",
        "if num_1 > num_2:\n",
        "  diffrence = num_1 - num_2\n",
        "\n",
        "elif num_1 < num_2:\n",
        "  diffrence = num_2 - num_1\n",
        "else:\n",
        "  diffrence = 0\n",
        "\n",
        "print(diffrence)"
      ]
    },
    {
      "cell_type": "code",
      "execution_count": null,
      "metadata": {
        "id": "MYfFUyLkJ94p"
      },
      "outputs": [],
      "source": [
        "#task5\n",
        "\n",
        "num_1 = int(input(\"Enter first number here: \"))\n",
        "\n",
        "\n",
        "if num_1 %2==0:\n",
        "  print(\"The number is even\")\n",
        "\n",
        "else:\n",
        "  print(\"The number is odd\")"
      ]
    },
    {
      "cell_type": "code",
      "execution_count": null,
      "metadata": {
        "id": "XYupuawSKAyN"
      },
      "outputs": [],
      "source": [
        "#task6\n",
        "\n",
        "num1 = int(input(\"Enter first number here: \"))\n",
        "\n",
        "if num1 %2 ==0 or num1%5 ==0:\n",
        "  print(num1)\n",
        "\n",
        "else:\n",
        "  print(\"Not a multiple of 2 OR 5\")"
      ]
    },
    {
      "cell_type": "code",
      "execution_count": null,
      "metadata": {
        "id": "ns-bNdHxKCeM"
      },
      "outputs": [],
      "source": [
        "#task7\n",
        "\n",
        "num1 = int(input(\"Enter first number here: \"))\n",
        "\n",
        "if num1 %2 ==0 and num1%5 ==0:\n",
        "  print(\"Multiple of 2 and 5 both\")\n",
        "elif num1%2 ==0 or num1%5 ==0:\n",
        "  print(num1)\n",
        "else:\n",
        "  print(\"Not a multiple we want\")"
      ]
    },
    {
      "cell_type": "code",
      "execution_count": null,
      "metadata": {
        "colab": {
          "base_uri": "https://localhost:8080/"
        },
        "id": "f7xk97uAKJWB",
        "outputId": "ffda568d-ac3e-4455-97c2-0335fbf2f37b"
      },
      "outputs": [
        {
          "name": "stdout",
          "output_type": "stream",
          "text": [
            "Enter first number here: 18\n",
            "Not a multiple of 2 and 5 both\n"
          ]
        }
      ],
      "source": [
        "#task8\n",
        "\n",
        "num1 = int(input(\"Enter first number here: \"))\n",
        "\n",
        "if num1 %2 ==0 and num1%5 ==0:\n",
        "  print(\"Multiple of 2 and 5 both\")\n",
        "\n",
        "else:\n",
        "  print(\"Not a multiple of 2 and 5 both\")"
      ]
    },
    {
      "cell_type": "code",
      "execution_count": null,
      "metadata": {
        "colab": {
          "base_uri": "https://localhost:8080/"
        },
        "id": "jwkZ3SMrLBbB",
        "outputId": "1430aba2-8e3c-44c9-f8ca-bfb9b90ea422"
      },
      "outputs": [
        {
          "name": "stdout",
          "output_type": "stream",
          "text": [
            "Enter time here, in seconds: 500\n",
            "Hours: 0 Minutes: 8 Seconds: 20\n"
          ]
        }
      ],
      "source": [
        "#task9\n",
        "\n",
        "time = int(input(\"Enter time here, (in seconds): \"))\n",
        "\n",
        "hour = time //3600\n",
        "seconds = time%3600\n",
        "minutes = seconds//60\n",
        "seconds = seconds%60\n",
        "\n",
        "print(\"Hours:\",hour,\"Minutes:\",minutes,\"Seconds:\",seconds)"
      ]
    },
    {
      "cell_type": "code",
      "execution_count": null,
      "metadata": {
        "colab": {
          "base_uri": "https://localhost:8080/"
        },
        "id": "XWIJs13mNJZV",
        "outputId": "bb343d2b-c168-4e9a-adbf-9289eab75aa1"
      },
      "outputs": [
        {
          "name": "stdout",
          "output_type": "stream",
          "text": [
            "Enter number of hours worked here: 170\n",
            "Impossible to work more than 168 hours weekly\n"
          ]
        }
      ],
      "source": [
        "#task10\n",
        "\n",
        "work_hours = int(input(\"Enter number of hours worked here: \"))\n",
        "\n",
        "if work_hours <0:\n",
        "  print(\"Hours cannot be negative\")\n",
        "elif work_hours >168:\n",
        "  print(\"Impossible to work more than 168 hours weekly\")\n",
        "elif work_hours <= 40:\n",
        "  wage = work_hours * 200\n",
        "  print(wage)\n",
        "elif work_hours >40:\n",
        "  extra_hours = work_hours - 40\n",
        "  wage = (extra_hours * 300) + 8000  \n",
        "  print(wage)\n"
      ]
    },
    {
      "cell_type": "code",
      "execution_count": null,
      "metadata": {
        "colab": {
          "base_uri": "https://localhost:8080/"
        },
        "id": "cQv9Qtr9ORCb",
        "outputId": "1013c601-0bb0-4f00-bf6a-e56e0a4be60c"
      },
      "outputs": [
        {
          "name": "stdout",
          "output_type": "stream",
          "text": [
            "Enter number here: 120\n",
            "2416.2162162162163\n"
          ]
        }
      ],
      "source": [
        "#task11\n",
        "\n",
        "s =float(input(\"Enter number here: \"))\n",
        "\n",
        "if s <100:\n",
        "  l = 3000 -(125*(s**2))\n",
        "elif s >=100:\n",
        "  l = 12000/(4+(s**2/14900))\n",
        "\n",
        "print(l)"
      ]
    },
    {
      "cell_type": "code",
      "execution_count": null,
      "metadata": {
        "colab": {
          "base_uri": "https://localhost:8080/"
        },
        "id": "LzD5avA5P_9n",
        "outputId": "585ef558-075a-4ec9-b64c-b3288821a253"
      },
      "outputs": [
        {
          "name": "stdout",
          "output_type": "stream",
          "text": [
            "Enter time here: 8\n",
            "Patience is virtue\n"
          ]
        }
      ],
      "source": [
        "#task12\n",
        "\n",
        "t = int(input(\"Enter time here: \"))\n",
        "\n",
        "if 4<= t <= 6:\n",
        "  print(\"Breakfast\")\n",
        "\n",
        "elif 12<= t <= 13:\n",
        "  print(\"Lunch\")\n",
        "\n",
        "elif 16<= t <= 17:\n",
        "  print(\"Snacks\")\n",
        "\n",
        "elif 19<= t <= 20:\n",
        "  print(\"Dinner\")\n",
        "\n",
        "elif 0<= t <=24:\n",
        "  print(\"Patience is a virtue\")\n",
        "\n",
        "else:\n",
        "  print(\"Wrong time\")"
      ]
    },
    {
      "cell_type": "code",
      "execution_count": null,
      "metadata": {
        "colab": {
          "base_uri": "https://localhost:8080/"
        },
        "id": "4jcB2bxURQ8O",
        "outputId": "6905e56a-3313-4ec2-fc9c-9aa72dfaa0a6"
      },
      "outputs": [
        {
          "name": "stdout",
          "output_type": "stream",
          "text": [
            "Enter number here: 97\n",
            "A\n"
          ]
        }
      ],
      "source": [
        "#task13\n",
        "\n",
        "number = int(input(\"Enter number here: \"))\n",
        "\n",
        "if 0 > number or number > 100:\n",
        "  print(\"Invalid number\") \n",
        "\n",
        "elif number >=90:\n",
        "  print(\"A\")\n",
        "\n",
        "elif 80<= number:\n",
        "  print(\"B\")\n",
        "\n",
        "elif 70<= number:\n",
        "  print(\"C\")\n",
        "\n",
        "elif 60<= number:\n",
        "  print(\"D\")\n",
        "\n",
        "elif 50<= number:\n",
        "  print(\"E\")\n",
        "\n",
        "else:\n",
        "  print(\"F\")\n",
        " "
      ]
    },
    {
      "cell_type": "code",
      "execution_count": null,
      "metadata": {
        "colab": {
          "base_uri": "https://localhost:8080/"
        },
        "id": "UlYBzQw_jeOv",
        "outputId": "55c2cb37-f41e-4138-e641-867dac9a29d5"
      },
      "outputs": [
        {
          "name": "stdout",
          "output_type": "stream",
          "text": [
            "Enter distance in meters: 26000\n",
            "Enter time in seconds: 1470\n",
            "63.673469387755105 km/h\n",
            "Velocity is okay. The car is ready!\n"
          ]
        }
      ],
      "source": [
        "#task14\n",
        "\n",
        "distance = int(input(\"Enter distance in meters: \"))\n",
        "time = int(input(\"Enter time in seconds: \"))\n",
        "speed_ms = distance / time\n",
        "speed_kmh = speed_ms * 3.6\n",
        "print(speed_kmh,\"km/h\")\n",
        "if speed_kmh <60:\n",
        "  print(\"Too slow. Needs more changes.\")\n",
        "elif 60 <= speed_kmh <=90:\n",
        "  print(\"Velocity is okay. The car is ready!\")\n",
        "elif speed_kmh >90:\n",
        "  print(\"Too fast. Only a few changes should suffice.\") "
      ]
    },
    {
      "cell_type": "code",
      "execution_count": null,
      "metadata": {
        "colab": {
          "base_uri": "https://localhost:8080/"
        },
        "id": "GZNmne4cmFwp",
        "outputId": "989dfda1-dd11-4b78-c111-e34766755aef"
      },
      "outputs": [
        {
          "name": "stdout",
          "output_type": "stream",
          "text": [
            "Enter CGPA here: 4\n",
            "Enter number of credits completed here: 37\n",
            "The student is eligible for a waiver of 100 percent.\n"
          ]
        }
      ],
      "source": [
        "#task15\n",
        "\n",
        "cgpa = float(input(\"Enter CGPA here: \"))\n",
        "credits = int(input(\"Enter number of credits completed here: \"))\n",
        "\n",
        "if credits >= 30 and cgpa >=3.8:\n",
        "  if 3.8 <= cgpa <=3.89:\n",
        "    print(\"The student is eligible for a waiver of 25 percent.\")\n",
        "  elif 3.9 <= cgpa <=3.94:\n",
        "    print(\"The student is eligible for a waiver of 50 percent.\")\n",
        "  elif 3.95 <= cgpa <=3.99:\n",
        "    print(\"The student is eligible for a waiver of 75 percent.\")\n",
        "  elif cgpa == 4.00:\n",
        "    print(\"The student is eligible for a waiver of 100 percent.\")\n",
        "else:\n",
        "  print(\"The student is not eligible for a waiver\")"
      ]
    },
    {
      "cell_type": "code",
      "execution_count": null,
      "metadata": {
        "colab": {
          "base_uri": "https://localhost:8080/"
        },
        "id": "HSbGW1R6oAMK",
        "outputId": "803f7ecc-f925-42be-d0a6-5316a475e61a"
      },
      "outputs": [
        {
          "name": "stdout",
          "output_type": "stream",
          "text": [
            "11\n",
            "9\n",
            "5\n",
            "32\n",
            "14\n"
          ]
        }
      ],
      "source": [
        "#task16\n",
        "\n",
        "p = 5\n",
        "q = 6\n",
        "r = 9\n",
        "sum = 0\n",
        "if (p < 12):\n",
        " print(r + 2)\n",
        "else:\n",
        " print(r + p)\n",
        "if (q > 20):\n",
        " print(r + 19)\n",
        "elif (q <= 6):\n",
        " print(q + 3)\n",
        "else:\n",
        " print(p + q + r)\n",
        "if (r > 15):\n",
        " print(r)\n",
        "elif (r == 0):\n",
        " print(p + q)\n",
        "else:\n",
        " print(p)\n",
        "if (sum != 0):\n",
        " print(3)\n",
        "else:\n",
        " print(sum + 32)\n",
        "if (p>0 and r<10):\n",
        " print(p+r)\n",
        "else:\n",
        " print(p-r)"
      ]
    },
    {
      "cell_type": "code",
      "execution_count": null,
      "metadata": {
        "colab": {
          "base_uri": "https://localhost:8080/"
        },
        "id": "ZTjHjTlQoOjh",
        "outputId": "5ce7a7b8-3294-486a-859f-89ee9cf2d139"
      },
      "outputs": [
        {
          "name": "stdout",
          "output_type": "stream",
          "text": [
            "True\n",
            "False\n",
            "True\n",
            "True\n",
            "False\n",
            "True\n",
            "False\n",
            "True\n",
            "False\n",
            "False\n"
          ]
        }
      ],
      "source": [
        "#task17\n",
        "\n",
        "var1 = var2 = var3 = var4 = var5 = var6 = False\n",
        "result1 = False\n",
        "result2 = False\n",
        "result3 = False\n",
        "result4 = False\n",
        "result5 = False\n",
        "result6 = False\n",
        "result7 = False\n",
        "result8 = False\n",
        "result9 = False\n",
        "result10 = False\n",
        "var1 = 4 > 3 - 1\n",
        "var2 = var1 and False\n",
        "var3 = True\n",
        "var4 = False\n",
        "var5 = True\n",
        "var6 = var3 and False\n",
        "result1 = (var1 or var2) and (8 * 10 > 45)\n",
        "result2 = (var1 or var2) and (result1 and False)\n",
        "result3 = (var1 and result1) or result2\n",
        "result4 = (var1 or var2) or ((var3 and var1) and False)\n",
        "result5 = (var1 and var2) and (result3 or var1)\n",
        "result6 = ((var3 or var2) and not(result5)) or True\n",
        "result7 = (var4 and result1) and ((result1 and False) or True)\n",
        "result8 = ((var1 and result3) and (var5 or var6)) and True\n",
        "result9 = ((result2 and var2) or (result7 and var1)) and False\n",
        "result10 = not(var1 and True)\n",
        "\n",
        "print(result1)\n",
        "print(result2)\n",
        "print(result3)\n",
        "print(result4)\n",
        "print(result5)\n",
        "print(result6)\n",
        "print(result7)\n",
        "print(result8)\n",
        "print(result9)\n",
        "print(result10)"
      ]
    },
    {
      "cell_type": "code",
      "execution_count": null,
      "metadata": {
        "colab": {
          "base_uri": "https://localhost:8080/"
        },
        "id": "6SPdRHLIodrx",
        "outputId": "dba6ece8-5ea8-4797-f00f-0aa5ce894d28"
      },
      "outputs": [
        {
          "name": "stdout",
          "output_type": "stream",
          "text": [
            "False\n",
            "False\n",
            "True\n",
            "False\n",
            "False\n",
            "True\n",
            "False\n",
            "False\n",
            "False\n",
            "True\n"
          ]
        }
      ],
      "source": [
        "#task18\n",
        "\n",
        "var1 = False\n",
        "var2 = False\n",
        "var3 = False\n",
        "var4 = False\n",
        "var5 = False\n",
        "var6 = False\n",
        "result1 = False\n",
        "result2 = False\n",
        "result3 = False\n",
        "result4 = False\n",
        "result5 = False\n",
        "result6 = False\n",
        "result7 = False\n",
        "result8 = False\n",
        "result9 = False\n",
        "result10 = False\n",
        "var1 = ((not True) or True) and False\n",
        "var2 = var1 and False\n",
        "var3 = True and not False\n",
        "var4 = False\n",
        "var5 = True\n",
        "var6 = var3 and False\n",
        "result1 = (var1 and var2) and (40 % 3) > 45 or (var5 and var6)\n",
        "result2 = (var1 or var2) or (result1 and False)\n",
        "result3 = (var1 and result1) or result2 or var5\n",
        "result4 = (var1 or var2) or ((var3 and var1) and False)\n",
        "result5 = (var1 and var2) and (result3 or var1)\n",
        "result6 = ((var3 or (not var2)) and (result5)) or True\n",
        "result7 = (var4 and result1) and ((result1 and False) or True)\n",
        "result8 = ((var1 and result3) and ((not var5) or var6)) and True\n",
        "result9 = ((result2 and var2) or ((not result7) and var1)) and not False\n",
        "result10 = not(var1 and True)\n",
        "\n",
        "print(result1)\n",
        "print(result2)\n",
        "print(result3)\n",
        "print(result4)\n",
        "print(result5)\n",
        "print(result6)\n",
        "print(result7)\n",
        "print(result8)\n",
        "print(result9)\n",
        "print(result10)"
      ]
    },
    {
      "cell_type": "code",
      "execution_count": null,
      "metadata": {
        "colab": {
          "base_uri": "https://localhost:8080/"
        },
        "id": "cMlXdunAZSPX",
        "outputId": "f22b3644-1b2d-4623-d9e6-bd918702f942"
      },
      "outputs": [
        {
          "name": "stdout",
          "output_type": "stream",
          "text": [
            "True\n",
            "True\n",
            "False\n",
            "True\n",
            "False\n",
            "False\n",
            "----------\n",
            "False\n",
            "True\n",
            "True\n",
            "True\n",
            "True\n",
            "True\n",
            "False\n",
            "True\n",
            "True\n",
            "False\n"
          ]
        }
      ],
      "source": [
        "#task19\n",
        "var1 = var2 = var3 = var4 = var5 = var6 = False\n",
        "result1 = result2 = result3 = result4 = result5 = result6 = False\n",
        "result7 = result8 = result9 = result10 = False\n",
        "var1 = (not False or False) and True\n",
        "var2 = var1 and True\n",
        "var3 = False and not True\n",
        "var4 = True\n",
        "var5 = False\n",
        "var6 = var3 and True\n",
        "result1 = (var1 and var2) and ( 40 % 3 > 45) or (var5 and var6)\n",
        "result2 = (var1 or var2) or (result1 and False)\n",
        "result3 = (var1 and result1) or result2 or var5\n",
        "result4 = (var1 or var2) or ((var3 and var1) and False)\n",
        "result5 = (var1 and var2) and (result3 or var1)\n",
        "result6 = ((var3 or not var2) and (result5)) or True\n",
        "result7 = (var4 and result1) and ((result1 and False) or True)\n",
        "result8 = ((var1 and result3) and (not var5 or var6)) and True\n",
        "result9 = ((result2 and var2) or (not result7 and var1)) and not False\n",
        "result10 = not (var1 and True)\n",
        "\n",
        "print(var1)\n",
        "print(var2)\n",
        "print(var3)\n",
        "print(var4)\n",
        "print(var5)\n",
        "print(var6)\n",
        "print(\"----------\")\n",
        "print(result1)\n",
        "print(result2)\n",
        "print(result3)\n",
        "print(result4)\n",
        "print(result5)\n",
        "print(result6)\n",
        "print(result7)\n",
        "print(result8)\n",
        "print(result9)\n",
        "print(result10)"
      ]
    },
    {
      "cell_type": "code",
      "execution_count": null,
      "metadata": {
        "colab": {
          "base_uri": "https://localhost:8080/"
        },
        "id": "e3wzsS4dovt4",
        "outputId": "1b819523-a863-4230-849a-b7cb64f4d8b8"
      },
      "outputs": [
        {
          "name": "stdout",
          "output_type": "stream",
          "text": [
            "Enter number here: 14\n",
            "No\n"
          ]
        }
      ],
      "source": [
        "#task20\n",
        "\n",
        "number = int(input(\"Enter number here: \"))\n",
        "\n",
        "if number % 2 == 0 or number % 5 == 0:\n",
        "  print(\"No\")\n",
        "else:\n",
        "  print(number)"
      ]
    },
    {
      "cell_type": "code",
      "execution_count": null,
      "metadata": {
        "colab": {
          "base_uri": "https://localhost:8080/"
        },
        "id": "P7Iv5aCErK0b",
        "outputId": "f5688c8d-4179-4ec7-db6d-396a7085180f"
      },
      "outputs": [
        {
          "name": "stdout",
          "output_type": "stream",
          "text": [
            "Enter number here: 14\n",
            "14\n"
          ]
        }
      ],
      "source": [
        "#task21\n",
        "\n",
        "number = int(input(\"Enter number here: \"))\n",
        "\n",
        "if number % 2 == 0 and number % 5 == 0:\n",
        "  print(\"No\")\n",
        "else:\n",
        "  print(number)"
      ]
    },
    {
      "cell_type": "code",
      "execution_count": null,
      "metadata": {
        "colab": {
          "base_uri": "https://localhost:8080/"
        },
        "id": "IAsTVMXuDbH5",
        "outputId": "fcbe7384-0749-4544-cbfc-ebfb4ff838f6"
      },
      "outputs": [
        {
          "name": "stdout",
          "output_type": "stream",
          "text": [
            "Enter the number of canvases here: 0\n",
            "Enter the number of paint tubes here: 3\n",
            "Previous total: 225\n",
            "New total after discount: 225\n"
          ]
        }
      ],
      "source": [
        "#task22\n",
        "\n",
        "canvas = int(input(\"Enter the number of canvases here: \"))\n",
        "paint_tubes = int(input(\"Enter the number of paint tubes here: \"))\n",
        "price_c = 120\n",
        "price_pt = 75\n",
        "total = (canvas * price_c) +(paint_tubes * price_pt)\n",
        "if total <= 299:\n",
        "  discount = 0\n",
        "elif 300 <= total <=499:\n",
        "  discount = 10\n",
        "elif 500 <= total <=749:\n",
        "  discount = 20\n",
        "elif 750 <= total <=999:\n",
        "  discount = 50\n",
        "else:\n",
        "  discount = 150\n",
        "\n",
        "new_price = total - discount\n",
        "print(\"Previous total:\",total)\n",
        "print(\"New total after discount:\",new_price)"
      ]
    },
    {
      "cell_type": "code",
      "execution_count": null,
      "metadata": {
        "colab": {
          "base_uri": "https://localhost:8080/"
        },
        "id": "P7ayWzDUFnjZ",
        "outputId": "6bf27cd3-9017-4831-9cdc-74c5ec586f95"
      },
      "outputs": [
        {
          "name": "stdout",
          "output_type": "stream",
          "text": [
            "Enter the temperature in Fahrenheit here: 32\n",
            "0.0 Degrees C\n",
            "Winter\n"
          ]
        }
      ],
      "source": [
        "#task23\n",
        "\n",
        "deg_f = int(input(\"Enter the temperature in Fahrenheit here: \"))\n",
        "deg_c = (deg_f -32)*0.56\n",
        "\n",
        "if deg_c < 20:\n",
        "  season = \"Winter\"\n",
        "elif 20 <= deg_c <=25:\n",
        "  season = \"Autumn\"\n",
        "elif 25 < deg_c < 30:\n",
        "  season = \"Spring\"\n",
        "elif deg_c >= 30:\n",
        "  season = 'Summer'\n",
        "\n",
        "\n",
        "print(deg_c,\"Degrees C\")\n",
        "print(season)"
      ]
    }
  ],
  "metadata": {
    "colab": {
      "collapsed_sections": [],
      "provenance": []
    },
    "kernelspec": {
      "display_name": "Python 3.10.7 64-bit (microsoft store)",
      "language": "python",
      "name": "python3"
    },
    "language_info": {
      "name": "python",
      "version": "3.10.7"
    },
    "vscode": {
      "interpreter": {
        "hash": "4993f6ced84077d870cd758d9024741312bad0555aefa09e203e955babc611c9"
      }
    }
  },
  "nbformat": 4,
  "nbformat_minor": 0
}
