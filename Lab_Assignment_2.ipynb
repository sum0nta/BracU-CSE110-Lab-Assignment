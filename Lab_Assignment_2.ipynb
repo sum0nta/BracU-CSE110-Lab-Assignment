{
  "cells": [
    {
      "cell_type": "code",
      "execution_count": null,
      "metadata": {
        "colab": {
          "base_uri": "https://localhost:8080/"
        },
        "id": "gbUkZMKY-aZk",
        "outputId": "2223cc03-933d-4884-c69b-409927a9d36d"
      },
      "outputs": [
        {
          "name": "stdout",
          "output_type": "stream",
          "text": [
            "24 , 18 , 12 , 6 , 0 , -6\n"
          ]
        }
      ],
      "source": [
        "#task1(a)\n",
        "\n",
        "count = 24\n",
        "\n",
        "while count >= -6:\n",
        "  if count == -6:\n",
        "    print(count)\n",
        "  else:\n",
        "    print(count,end =', ')\n",
        "  count -= 6\n"
      ]
    },
    {
      "cell_type": "code",
      "execution_count": null,
      "metadata": {
        "colab": {
          "base_uri": "https://localhost:8080/"
        },
        "id": "nYrxfrdB_SSU",
        "outputId": "6fe80a24-9198-42fb-bbc6-6b2885514494"
      },
      "outputs": [
        {
          "name": "stdout",
          "output_type": "stream",
          "text": [
            "-10 , -5 , 0 , 5 , 10 , 15 , 20\n"
          ]
        }
      ],
      "source": [
        "#task1(b)\n",
        "\n",
        "count = -10\n",
        "\n",
        "while count <= 20:\n",
        "  if count == 20:\n",
        "    print(count)\n",
        "  else:\n",
        "    print(count, end =\", \")\n",
        "  count += 5"
      ]
    },
    {
      "cell_type": "code",
      "execution_count": null,
      "metadata": {
        "colab": {
          "base_uri": "https://localhost:8080/"
        },
        "id": "xxBXGXxsA1pa",
        "outputId": "c6ae3084-3423-4ab2-d7f2-5ef0ae24d6a6"
      },
      "outputs": [
        {
          "name": "stdout",
          "output_type": "stream",
          "text": [
            "18 , 27 , 36 , 45 , 54 , 63\n"
          ]
        }
      ],
      "source": [
        "#task1(c)\n",
        "\n",
        "count = 18\n",
        "\n",
        "while count <= 63:\n",
        "  if count == 63:\n",
        "    print(count)\n",
        "  else:\n",
        "    print(count, end =\", \")\n",
        "  count += 9"
      ]
    },
    {
      "cell_type": "code",
      "execution_count": null,
      "metadata": {
        "colab": {
          "base_uri": "https://localhost:8080/"
        },
        "id": "88ugjz6FCLBH",
        "outputId": "71f22e44-65b1-4ea0-ea8f-52fe39fd38ac"
      },
      "outputs": [
        {
          "name": "stdout",
          "output_type": "stream",
          "text": [
            "18 , -27 , 36 , -45 , 54 , -63\n"
          ]
        }
      ],
      "source": [
        "#task1(d)\n",
        "\n",
        "count = 18\n",
        "\n",
        "while count <= 63:\n",
        "  if count == 63:\n",
        "    print(count*(-1))\n",
        "  else:\n",
        "    if count % 2==0:\n",
        "      print(count, end =\", \")\n",
        "    else:\n",
        "      print(count*(-1), end =\", \")\n",
        "  count += 9"
      ]
    },
    {
      "cell_type": "code",
      "execution_count": null,
      "metadata": {
        "colab": {
          "base_uri": "https://localhost:8080/"
        },
        "id": "DwYcx86fD9He",
        "outputId": "ae1c26ab-03d2-47f6-eb4f-2ba8f3ad8675"
      },
      "outputs": [
        {
          "name": "stdout",
          "output_type": "stream",
          "text": [
            "Enter name of car here: Veyron\n",
            "Enter number here: 5\n",
            "Veyron\n",
            "Veyron\n",
            "Veyron\n",
            "Veyron\n",
            "Veyron\n"
          ]
        }
      ],
      "source": [
        "#task2\n",
        "\n",
        "car = input(\"Enter name of car here: \")\n",
        "number = int(input(\"Enter number here: \"))\n",
        "count = 1\n",
        "while count <= number:\n",
        "  print(car)\n",
        "  count += 1 "
      ]
    },
    {
      "cell_type": "code",
      "execution_count": null,
      "metadata": {
        "colab": {
          "base_uri": "https://localhost:8080/"
        },
        "id": "BZRqyUT8Ee5q",
        "outputId": "5303fb8f-394d-4899-b868-7c0571340fa2"
      },
      "outputs": [
        {
          "name": "stdout",
          "output_type": "stream",
          "text": [
            "2835\n"
          ]
        }
      ],
      "source": [
        "#task3\n",
        "\n",
        "sum = 0\n",
        "\n",
        "for i in range(1,601):\n",
        "  if i % 7 ==0 and i% 9==0:\n",
        "    sum += i\n",
        "    \n",
        "print(sum)"
      ]
    },
    {
      "cell_type": "code",
      "execution_count": null,
      "metadata": {
        "colab": {
          "base_uri": "https://localhost:8080/"
        },
        "id": "uW4itsC6F1bj",
        "outputId": "8d407f7d-050c-458e-dde6-17d0fe3b8ba7"
      },
      "outputs": [
        {
          "name": "stdout",
          "output_type": "stream",
          "text": [
            "39814\n"
          ]
        }
      ],
      "source": [
        "#task4\n",
        "\n",
        "sum = 0\n",
        "\n",
        "for i in range(1,601):\n",
        "  if (i % 7 ==0) ^ (i% 9==0):\n",
        "    sum += i\n",
        "  \n",
        "print(sum)"
      ]
    },
    {
      "cell_type": "markdown",
      "metadata": {
        "id": "ZuNIz0WAL0Bj"
      },
      "source": [
        "^ (xor) was used for either 7 or 9 but not both"
      ]
    },
    {
      "cell_type": "code",
      "execution_count": null,
      "metadata": {
        "colab": {
          "base_uri": "https://localhost:8080/"
        },
        "id": "f4NULD5nGH-c",
        "outputId": "b8dc4efd-d013-4c36-db1e-867f7935e25e"
      },
      "outputs": [
        {
          "name": "stdout",
          "output_type": "stream",
          "text": [
            "11 13 15 17 19 21 23 25 27 29 31 33 35 37 39 41 43 45 47 49 "
          ]
        }
      ],
      "source": [
        "#task5\n",
        "\n",
        "for i in range(10,50):\n",
        "  if i % 2!= 0:\n",
        "    print(i, end =\" \")"
      ]
    },
    {
      "cell_type": "code",
      "execution_count": null,
      "metadata": {
        "colab": {
          "base_uri": "https://localhost:8080/"
        },
        "id": "8eeZvUDTGVB1",
        "outputId": "64861995-a5b4-4193-aed6-5bbadf84e920"
      },
      "outputs": [
        {
          "name": "stdout",
          "output_type": "stream",
          "text": [
            "Enter number here: 20\n",
            "-210\n"
          ]
        }
      ],
      "source": [
        "#task6\n",
        "\n",
        "n = int(input(\"Enter number here: \"))\n",
        "y =0\n",
        "for i in range(n+1):\n",
        "  if i % 2 ==0:\n",
        "    y -= (i**2)\n",
        "  else:\n",
        "    y += (i**2)\n",
        "\n",
        "print(y)"
      ]
    },
    {
      "cell_type": "code",
      "execution_count": null,
      "metadata": {
        "colab": {
          "base_uri": "https://localhost:8080/"
        },
        "id": "BT7-4dP7KSKe",
        "outputId": "3feccd11-a2a9-4dd5-a63b-d639a611ad8a"
      },
      "outputs": [
        {
          "name": "stdout",
          "output_type": "stream",
          "text": [
            "Enter number here: -20\n",
            "Enter number here: 13\n",
            "Enter number here: -5\n",
            "Enter number here: 40\n",
            "Enter number here: -17\n",
            "Enter number here: 10\n",
            "Enter number here: 20\n",
            "Enter number here: -8\n",
            "Enter number here: 99\n",
            "Enter number here: -200\n",
            "The total of the odd numbers is 90 and their average is 22.5\n"
          ]
        }
      ],
      "source": [
        "#task7\n",
        "\n",
        "sum = 0\n",
        "num = 0\n",
        "for i in range(10):\n",
        "  j = int(input(\"Enter number here: \"))\n",
        "  if j %2 !=0:\n",
        "    sum += j\n",
        "    num += 1\n",
        "avg = sum /num\n",
        "\n",
        "print(f'The total of the odd numbers is {sum} and their average is {avg}' )"
      ]
    },
    {
      "cell_type": "code",
      "execution_count": null,
      "metadata": {
        "colab": {
          "base_uri": "https://localhost:8080/"
        },
        "id": "je5C4gqcHZSI",
        "outputId": "f1e59e37-4ce1-40fc-f082-c34776aa9661"
      },
      "outputs": [
        {
          "name": "stdout",
          "output_type": "stream",
          "text": [
            "Enter number here: 50\n",
            "196\n"
          ]
        }
      ],
      "source": [
        "#task8\n",
        "\n",
        "n = int(input(\"Enter number here: \"))\n",
        "sum = 0\n",
        "for i in range(7,n+1,7):\n",
        "  sum += i\n",
        "\n",
        "print(sum)"
      ]
    },
    {
      "cell_type": "code",
      "execution_count": null,
      "metadata": {
        "colab": {
          "base_uri": "https://localhost:8080/"
        },
        "id": "JfzseSnqfYZS",
        "outputId": "78c54251-3417-4b8a-c556-7cc426cbaf55"
      },
      "outputs": [
        {
          "name": "stdout",
          "output_type": "stream",
          "text": [
            "Enter number here: 11\n",
            "11\n",
            "Enter number here: -29\n",
            "-18\n",
            "Enter number here: -3\n",
            "-21\n",
            "Enter number here: 47\n",
            "26\n",
            "Enter number here: 50\n",
            "76\n"
          ]
        }
      ],
      "source": [
        "#task9\n",
        "x = 0\n",
        "for i in range(5):\n",
        "  j = int(input(\"Enter number here: \"))\n",
        "  x += j\n",
        "  print(x)"
      ]
    },
    {
      "cell_type": "code",
      "execution_count": null,
      "metadata": {
        "colab": {
          "base_uri": "https://localhost:8080/"
        },
        "id": "2khJQg96Teld",
        "outputId": "25df1fac-5c52-4a58-cc64-70bd8a58a243"
      },
      "outputs": [
        {
          "name": "stdout",
          "output_type": "stream",
          "text": [
            "Enter number here: 10101\n",
            "1, 0, 1, 0, 1\n"
          ]
        }
      ],
      "source": [
        "#task10\n",
        "\n",
        "n = int(input(\"Enter number here: \"))\n",
        "\n",
        "while n >=10:\n",
        "    x = n%10\n",
        "    print(x, end =\", \")\n",
        "    n = n//10\n",
        "print(n)   \n",
        "  "
      ]
    },
    {
      "cell_type": "code",
      "execution_count": null,
      "metadata": {
        "colab": {
          "base_uri": "https://localhost:8080/"
        },
        "id": "p_d9u4mJhC9p",
        "outputId": "aae2dde9-9568-403c-96fc-9cb0113ec787"
      },
      "outputs": [
        {
          "name": "stdout",
          "output_type": "stream",
          "text": [
            "Enter number here: 10102\n",
            "5\n"
          ]
        }
      ],
      "source": [
        "#task11\n",
        "n = int(input(\"Enter number here: \"))\n",
        "count = 0\n",
        "while n >0:\n",
        "  n = n//10\n",
        "  count += 1\n",
        "print(count)"
      ]
    },
    {
      "cell_type": "code",
      "execution_count": null,
      "metadata": {
        "colab": {
          "base_uri": "https://localhost:8080/"
        },
        "id": "9Lz2P7XbsW84",
        "outputId": "ce92d0c9-e5cb-45b9-a620-aa6bae95f237"
      },
      "outputs": [
        {
          "name": "stdout",
          "output_type": "stream",
          "text": [
            "Enter number here: 351\n",
            "3, 5, 1\n"
          ]
        }
      ],
      "source": [
        "#task12\n",
        "\n",
        "num = int(input(\"Enter number here: \"))\n",
        "n = num\n",
        "count = 0\n",
        "while n >0:\n",
        "  n = n//10\n",
        "  count += 1\n",
        "\n",
        "while count >0:\n",
        "  x = num //(10**(count-1))\n",
        "  if count ==1:\n",
        "    print(x)\n",
        "  else:\n",
        "    print(x , end=', ')\n",
        "  num = num%(10**(count-1))\n",
        "  count -= 1"
      ]
    },
    {
      "cell_type": "code",
      "execution_count": null,
      "metadata": {
        "colab": {
          "base_uri": "https://localhost:8080/"
        },
        "id": "74GbmtDWV_WK",
        "outputId": "4adf0f55-f74b-4489-cd7b-f4d659a30995"
      },
      "outputs": [
        {
          "name": "stdout",
          "output_type": "stream",
          "text": [
            "Enter number here: 18\n",
            "1,2,3,6,9,18\n",
            "Total 6 divisors.\n"
          ]
        }
      ],
      "source": [
        "#task13\n",
        "\n",
        "n = int(input(\"Enter number here: \"))\n",
        "\n",
        "d = 1\n",
        "\n",
        "for i in range(1,n):\n",
        "  if n%i ==0:\n",
        "    print(i, end =\",\")\n",
        "    d += 1\n",
        "print(n)\n",
        "print(f'Total {d} divisors.')"
      ]
    },
    {
      "cell_type": "markdown",
      "metadata": {
        "id": "X3R4tkZqbNow"
      },
      "source": [
        "have to put an empty print for avoid no space after end =''"
      ]
    },
    {
      "cell_type": "code",
      "execution_count": null,
      "metadata": {
        "colab": {
          "base_uri": "https://localhost:8080/"
        },
        "id": "EJj6HXJpYuHE",
        "outputId": "479a7630-65b0-4462-a812-9e2cf7ca69f4"
      },
      "outputs": [
        {
          "name": "stdout",
          "output_type": "stream",
          "text": [
            "Enter number here: 6\n",
            "6 is a perfect number\n"
          ]
        }
      ],
      "source": [
        "#task14\n",
        "\n",
        "n = int(input(\"Enter number here: \"))\n",
        "\n",
        "d = 0\n",
        "\n",
        "for i in range(1,n):\n",
        "  if n%i ==0:\n",
        "    d += i\n",
        "    \n",
        "if n == d:\n",
        "  print(f\"{n} is a perfect number\")\n",
        "else:\n",
        "  print(f\"{n} is not a perfect number\")\n"
      ]
    },
    {
      "cell_type": "code",
      "execution_count": null,
      "metadata": {
        "colab": {
          "base_uri": "https://localhost:8080/"
        },
        "id": "6VoHF3x5aARr",
        "outputId": "5abc926e-f8d0-411d-ec7c-16bd0d636d0d"
      },
      "outputs": [
        {
          "name": "stdout",
          "output_type": "stream",
          "text": [
            "Enter number here: 6\n",
            "6 is not a prime number\n"
          ]
        }
      ],
      "source": [
        "#task15\n",
        "\n",
        "n=int(input(\"Enter number here: \"))\n",
        "divisor = 0\n",
        "for i in range(1,n+1):\n",
        "  if n%i ==0:\n",
        "    divisor += 1\n",
        "\n",
        "if divisor == 2:\n",
        "  print(n,\"is a prime number\")\n",
        "\n",
        "else:\n",
        "  print(n,\"is not a prime number\")"
      ]
    },
    {
      "cell_type": "code",
      "execution_count": null,
      "metadata": {
        "colab": {
          "base_uri": "https://localhost:8080/"
        },
        "id": "Gj6uR4QV4x8U",
        "outputId": "998dfe7c-0030-4ae3-e59f-b00fd4b417e8"
      },
      "outputs": [
        {
          "name": "stdout",
          "output_type": "stream",
          "text": [
            "Enter number of digits here: 2\n",
            "Enter number here: -999\n",
            "Enter number here: -10\n",
            "Maximum -10\n",
            "Minimum -999\n",
            "Average is -504.5\n"
          ]
        }
      ],
      "source": [
        "#task16\n",
        "\n",
        "quantity = int(input(\"Enter number of digits here: \"))\n",
        "total = 0\n",
        "max = -9999999999\n",
        "min = 9999999999\n",
        "for i in range(quantity):\n",
        "  x = int(input(\"Enter number here: \"))\n",
        "  total += x\n",
        "  if x > max:\n",
        "    max = x\n",
        "  if x < min:\n",
        "    min = x\n",
        "avg = total /quantity\n",
        "\n",
        "print(\"Maximum\",max)\n",
        "print(\"Minimum\",min)\n",
        "print(\"Average is\",avg)"
      ]
    },
    {
      "cell_type": "code",
      "execution_count": null,
      "metadata": {
        "colab": {
          "base_uri": "https://localhost:8080/"
        },
        "id": "fwl9LGzBGUd1",
        "outputId": "e75041d3-8fb4-4b1d-da09-a51a3345f56a"
      },
      "outputs": [
        {
          "name": "stdout",
          "output_type": "stream",
          "text": [
            "Enter number here: 5\n",
            "+++++\n",
            "+++++\n",
            "+++++\n",
            "+++++\n",
            "+++++\n"
          ]
        }
      ],
      "source": [
        "#task17\n",
        "\n",
        "n = int(input(\"Enter number here: \"))\n",
        "for i in range(n):\n",
        "  for j in range(n):\n",
        "    print('+',end='')\n",
        "  print()"
      ]
    },
    {
      "cell_type": "markdown",
      "metadata": {
        "id": "6Xh9feUVnk9D"
      },
      "source": [
        "print() is required for a new line."
      ]
    },
    {
      "cell_type": "code",
      "execution_count": null,
      "metadata": {
        "colab": {
          "base_uri": "https://localhost:8080/"
        },
        "id": "F5p8RBZznEDi",
        "outputId": "fa34e955-7570-43dd-e19d-243ee8db6a8b"
      },
      "outputs": [
        {
          "name": "stdout",
          "output_type": "stream",
          "text": [
            "Enter number of lines here: 7\n",
            "Enter number of digits here: 6\n",
            "123456\n",
            "123456\n",
            "123456\n",
            "123456\n",
            "123456\n",
            "123456\n",
            "123456\n"
          ]
        }
      ],
      "source": [
        "#task18\n",
        "n = int(input(\"Enter number of lines here: \"))\n",
        "m = int(input(\"Enter number of digits here: \"))\n",
        "\n",
        "for i in range(n):\n",
        "  for j in range(1,m+1):\n",
        "    print(j,end = '')\n",
        "  print('')"
      ]
    },
    {
      "cell_type": "code",
      "execution_count": null,
      "metadata": {
        "colab": {
          "base_uri": "https://localhost:8080/"
        },
        "id": "wHCeATJEomzx",
        "outputId": "0258d439-8bca-4954-871d-08477897d4ca"
      },
      "outputs": [
        {
          "name": "stdout",
          "output_type": "stream",
          "text": [
            "Enter number of lines here: 4\n",
            "1\n",
            "12\n",
            "123\n",
            "1234\n"
          ]
        }
      ],
      "source": [
        "#task19\n",
        "\n",
        "n = int(input(\"Enter number of lines here: \"))\n",
        "\n",
        "for i in range(1,n+1):\n",
        "  for j in range(1,i+1):\n",
        "    print(j,end = '')\n",
        "  print('')"
      ]
    },
    {
      "cell_type": "code",
      "execution_count": null,
      "metadata": {
        "colab": {
          "base_uri": "https://localhost:8080/"
        },
        "id": "1r1Uiw5lePdN",
        "outputId": "81bfd0af-71e2-474d-cc33-b00c53a5199e"
      },
      "outputs": [
        {
          "name": "stdout",
          "output_type": "stream",
          "text": [
            "4\n",
            "10\n",
            "18\n",
            "28\n",
            "42\n",
            "60\n",
            "82\n",
            "108\n",
            "138\n",
            "151\n",
            "x [3, 4, 5, 6, 7, 8, 9, 10, 11]\n",
            "q [2.2222222222222223, 3.888888888888889, 4.888888888888888, 5.222222222222222, 8.88888888888889, 11.222222222222221, 14.222222222222221, 17.88888888888889, 20.22222222222222]\n",
            "p [1, 1, 1, 3.0, 5.0, 7.0, 9.0, 11.0, 13.0]\n",
            "sum [4, 10, 18, 28, 42, 60, 82, 108, 138, 151]\n"
          ]
        }
      ],
      "source": [
        "#task20\n",
        "list_x = []\n",
        "list_p =[]\n",
        "list_sum =[]\n",
        "list_q =[]\n",
        "x = 0\n",
        "p =0\n",
        "sum = 0\n",
        "p = 1\n",
        "x = 2\n",
        "q = None\n",
        "sum = 0\n",
        "while p < 12:\n",
        "    q = x + p - (sum + 7 / 3) / 3.0 % 2\n",
        "    list_q.append(q)\n",
        "    sum = sum + x + int(q)\n",
        "    list_sum.append(sum)\n",
        "    x += 1\n",
        "    list_x.append(x)\n",
        "    print(sum)\n",
        "    if x > 5:\n",
        "        p += 4 / 2\n",
        "        list_p.append(p)\n",
        "    else:\n",
        "        p += (3 % 1)\n",
        "        list_p.append(p)\n",
        "sum = int(sum + p)\n",
        "list_sum.append(sum)\n",
        "print(sum)\n",
        "\n",
        "print('x',list_x)\n",
        "print('q',list_q)\n",
        "print('p',list_p)\n",
        "print('sum',list_sum)"
      ]
    },
    {
      "cell_type": "code",
      "execution_count": null,
      "metadata": {
        "colab": {
          "base_uri": "https://localhost:8080/"
        },
        "id": "gKrFWAMof31U",
        "outputId": "7d5f8371-55ce-4bee-abc2-708640a2f08e"
      },
      "outputs": [
        {
          "name": "stdout",
          "output_type": "stream",
          "text": [
            "4\n",
            "9\n",
            "16\n",
            "25\n",
            "39\n",
            "56\n",
            "78\n",
            "104\n",
            "115\n",
            "x [3, 4, 5, 6, 7, 8, 9, 10]\n",
            "q [2.6666666666666665, 2.333333333333333, 3.6666666666666665, 4.333333333333333, 8.333333333333334, 10.666666666666666, 14.0, 17.666666666666668]\n",
            "p [1, 1, 1, 3, 5, 7, 9, 11]\n",
            "sum [4, 9, 16, 25, 39, 56, 78, 104, 115]\n"
          ]
        }
      ],
      "source": [
        "#task21\n",
        "list_x = []\n",
        "list_p =[]\n",
        "list_sum =[]\n",
        "list_q =[]\n",
        "\n",
        "x = 0\n",
        "p = 0\n",
        "sum = 0\n",
        "p = 1\n",
        "x = 2\n",
        "q = 0.0\n",
        "sum = 0\n",
        "while (p < 10) :\n",
        "  q = x + p - (sum + int(5 / 3)) / 3.0 % 2\n",
        "  list_q.append(q)\n",
        "  sum = sum + x + int(q)\n",
        "  list_sum.append(sum)\n",
        "  x += 1\n",
        "  list_x.append(x)\n",
        "  print(sum)\n",
        "  if (x > 5) :\n",
        "    p += int(4 / 2)\n",
        "    list_p.append(p)\n",
        "  else :\n",
        "    p += 3 % 1\n",
        "    list_p.append(p)\n",
        "sum = sum + p\n",
        "list_sum.append(sum)\n",
        "print(sum)\n",
        "\n",
        "print('x',list_x)\n",
        "print('q',list_q)\n",
        "print('p',list_p)\n",
        "print('sum',list_sum)"
      ]
    },
    {
      "cell_type": "code",
      "execution_count": null,
      "metadata": {
        "colab": {
          "base_uri": "https://localhost:8080/"
        },
        "id": "hdJM8X9Og0LT",
        "outputId": "abfca55b-218e-42a8-a78d-6b6ec4379b73"
      },
      "outputs": [
        {
          "name": "stdout",
          "output_type": "stream",
          "text": [
            "6\n",
            "4\n",
            "2\n",
            "0\n",
            "-2\n",
            "-4\n",
            "3\n",
            "1\n",
            "-1\n",
            "-2\n",
            "x [0, 3, 6, 9, 10]\n",
            "y [0, -3, -2, -1, 0, 1, 2, 3, 0, 1, 2, 3, 3, 6]\n",
            "sum [0, 6, 4, 2, 0, -2, -4, 3, 1, -1, -2]\n"
          ]
        }
      ],
      "source": [
        "#task22\n",
        "list_x = []\n",
        "list_y =[]\n",
        "list_sum =[]\n",
        "list_q =[]\n",
        "\n",
        "x = y = 0\n",
        "list_x.append(x)\n",
        "list_y.append(y)\n",
        "sum = 0\n",
        "list_sum.append(sum)\n",
        "while (x < 10):\n",
        "  y = x - 3\n",
        "  list_y.append(y)\n",
        "  while (y < 3):\n",
        "    sum = x - y * 2\n",
        "    list_sum.append(sum) \n",
        "    print(sum)\n",
        "    y = y + 1\n",
        "    list_y.append(y)\n",
        "  if (x > 7): \n",
        "    x += 1\n",
        "    list_x.append(x)\n",
        "  else: \n",
        "    x += 3\n",
        "    list_x.append(x)\n",
        "sum = x - y * 2\n",
        "list_sum.append(sum)\n",
        "print(sum)\n",
        "\n",
        "print('x',list_x)\n",
        "print('y',list_y)\n",
        "print('sum',list_sum)"
      ]
    },
    {
      "cell_type": "code",
      "execution_count": null,
      "metadata": {
        "colab": {
          "base_uri": "https://localhost:8080/"
        },
        "id": "pYme1KTChfCr",
        "outputId": "5d6dbe13-a47b-4ab3-ac82-d1c83a186d01"
      },
      "outputs": [
        {
          "name": "stdout",
          "output_type": "stream",
          "text": [
            "6\n",
            "7\n",
            "9\n",
            "5\n",
            "10\n",
            "5\n",
            "10\n",
            "5\n",
            "11\n",
            "7\n",
            "3\n",
            "x [0, 2, 4, 6, 7, 8, 9, 10]\n",
            "y [0, 0, 1, 3, 2, 4, 3, 5, 7, 3, 5, 7, 4, 6, 8, 4, 6, 8, 10]\n",
            "p [0.0, 6.0, 7.0, 8.0, 8.0, 8.5, 8.5, 9.0, 9.0, 9.5, 9.5, 9.5]\n",
            "sum [0, 6, 7, 9, 5, 10, 5, 10, 5, 11, 7, 3]\n"
          ]
        }
      ],
      "source": [
        "#task23\n",
        "list_x = []\n",
        "list_y =[]\n",
        "list_sum =[]\n",
        "list_p =[]\n",
        "\n",
        "x = 0\n",
        "list_x.append(x)\n",
        "y = 0\n",
        "list_y.append(y)\n",
        "sum = 0\n",
        "list_sum.append(sum)\n",
        "p = 0.0\n",
        "list_p.append(p)\n",
        "while (x < 10):\n",
        "  y = x // 2\n",
        "  list_y.append(y)\n",
        "  while (y < x):\n",
        "    p = (x + 10.0) / 2\n",
        "    list_p.append(p)\n",
        "    sum = (sum % 2) + x - y * 2 + int(p)\n",
        "    list_sum.append(sum)\n",
        "    print(sum)\n",
        "    y = y + 2\n",
        "    list_y.append(y)\n",
        "  if (x > 5):\n",
        "    x += 1\n",
        "    list_x.append(x)\n",
        "  else:\n",
        "    x += 2\n",
        "    list_x.append(x)\n",
        "\n",
        "\n",
        "print('x',list_x)\n",
        "print('y',list_y)\n",
        "print('p',list_p)\n",
        "print('sum',list_sum)"
      ]
    },
    {
      "cell_type": "code",
      "execution_count": null,
      "metadata": {
        "colab": {
          "base_uri": "https://localhost:8080/"
        },
        "id": "0u1-qWHuiVCD",
        "outputId": "6b35951f-82e7-44f2-f20d-dbbdc8e11e73"
      },
      "outputs": [
        {
          "name": "stdout",
          "output_type": "stream",
          "text": [
            "40\n",
            "45\n",
            "50\n",
            "55\n",
            "60\n",
            "65\n",
            "70\n",
            "75\n",
            "80\n",
            "85\n",
            "test [1, 79, 89, 99, 109, 119, 129, 139, 149, 159, 169, 1]\n",
            "j [0, 10, 20, 30, 40, 50, 60, 70, 80, 90, 100, 0]\n",
            "k [100, 90, 80, 70, 60, 50, 40, 30, 20, 10, 0, 100]\n"
          ]
        }
      ],
      "source": [
        "#task24\n",
        "list_test = []\n",
        "list_j =[]\n",
        "list_k =[]\n",
        "\n",
        "\n",
        "\n",
        "test = 1\n",
        "list_test.append(test)\n",
        "j = 0\n",
        "list_j.append(j)\n",
        "k = 100\n",
        "list_k.append(k)\n",
        "while (k > 0):\n",
        "  while ( j < k ):\n",
        "    test = k + j -21\n",
        "    list_test.append(test)\n",
        "    print(str(1 + int (test / 2)))\n",
        "    j += 10\n",
        "    list_j.append(j)\n",
        "  k -= 10\n",
        "  list_k.append(k)\n",
        "test = 1\n",
        "list_test.append(test)\n",
        "j = 0\n",
        "list_j.append(j)\n",
        "k = 100\n",
        "list_k.append(k)\n",
        "\n",
        "print('test',list_test)\n",
        "print('j',list_j)\n",
        "print('k',list_k)\n",
        "\n"
      ]
    },
    {
      "cell_type": "code",
      "execution_count": null,
      "metadata": {
        "colab": {
          "base_uri": "https://localhost:8080/"
        },
        "id": "bAm8UDObzBTU",
        "outputId": "0d4c11bb-fb6f-4ad1-b9d1-170c61b2a485"
      },
      "outputs": [
        {
          "name": "stdout",
          "output_type": "stream",
          "text": [
            "Enter number here: 15\n",
            "0 1 1 2 3 5 8 13 "
          ]
        }
      ],
      "source": [
        "#task25\n",
        "\n",
        "n = int(input(\"Enter number here: \"))\n",
        "\n",
        "first = 0\n",
        "second = 1\n",
        "print(first,second,end =' ')\n",
        "for i in range(n):\n",
        "  third = first + second\n",
        "  if third <n:\n",
        "    print(third, end =' ')\n",
        "  first = second\n",
        "  second = third\n"
      ]
    },
    {
      "cell_type": "code",
      "execution_count": null,
      "metadata": {
        "colab": {
          "base_uri": "https://localhost:8080/"
        },
        "id": "clsvJjmF1vja",
        "outputId": "2d8f2d53-9690-4749-e958-638699977a7c"
      },
      "outputs": [
        {
          "name": "stdout",
          "output_type": "stream",
          "text": [
            "Enter number here: 13\n",
            "1101"
          ]
        }
      ],
      "source": [
        "#task26\n",
        "\n",
        "n = int(input(\"Enter number here: \"))\n",
        "list1 =[]\n",
        "while n>0:\n",
        "  num1 = n %2\n",
        "  list1.append(num1)\n",
        "  n = n//2\n",
        "list1 = list1[: :-1]\n",
        "for i in list1:\n",
        "  print(i,end ='')"
      ]
    },
    {
      "cell_type": "code",
      "execution_count": null,
      "metadata": {
        "colab": {
          "base_uri": "https://localhost:8080/"
        },
        "id": "-qapKmVmD9_2",
        "outputId": "d3a24efa-fccc-40ac-e5fe-eb8937697b95"
      },
      "outputs": [
        {
          "name": "stdout",
          "output_type": "stream",
          "text": [
            "Enter number here: 11\n",
            "1011\n"
          ]
        }
      ],
      "source": [
        "#Task26\n",
        "\n",
        "num = int(input(\"Enter number here: \"))\n",
        "y = ''\n",
        "while num > 0:\n",
        "  x = num % 2\n",
        "  num = num //2\n",
        "  y += str(x)\n",
        "\n",
        "print(y[: :-1]) "
      ]
    },
    {
      "cell_type": "code",
      "execution_count": null,
      "metadata": {
        "colab": {
          "base_uri": "https://localhost:8080/"
        },
        "id": "5DYWVV_q-xzR",
        "outputId": "e8156bf4-cba4-4029-c5ed-0b3e58eb950c"
      },
      "outputs": [
        {
          "name": "stdout",
          "output_type": "stream",
          "text": [
            "Enter number here: 1011\n",
            "11\n"
          ]
        }
      ],
      "source": [
        "#task27\n",
        "\n",
        "n = int(input(\"Enter number here: \"))\n",
        "\n",
        "num1 = n\n",
        "num2 = n\n",
        "count =0\n",
        "total =0\n",
        "while num1 >0:\n",
        "  num1 = num1 //10\n",
        "  count += 1\n",
        "\n",
        "while n >0:\n",
        "  x = n//(10**(count-1))\n",
        "  number = ((2**(count-1))*x)\n",
        "  n = n %(10**(count-1))\n",
        "  total += number\n",
        "  count -= 1\n",
        "\n",
        "print(total)"
      ]
    },
    {
      "cell_type": "code",
      "execution_count": null,
      "metadata": {
        "colab": {
          "base_uri": "https://localhost:8080/"
        },
        "id": "mGChRyOBDXom",
        "outputId": "90f1bbf2-916b-46e5-ad8f-7d37b2d06f9b"
      },
      "outputs": [
        {
          "name": "stdout",
          "output_type": "stream",
          "text": [
            "Enter starting number of range here: 10\n",
            "Enter ending number of range here: 49\n",
            "Between 10 and 49,\n",
            "Found 11 prime numbers\n",
            "Found 1 perfect numbers\n",
            "Prime Numbers: 11, 13, 17, 19, 23, 29, 31, 37, 41, 43, 47 \n",
            "Perfect Numbers: 28 "
          ]
        }
      ],
      "source": [
        "#task28\n",
        "\n",
        "start = int(input(\"Enter starting number of range here: \"))\n",
        "end = int(input(\"Enter ending number of range here: \"))\n",
        "\n",
        "prime =[]\n",
        "perfect =[]\n",
        "\n",
        "for i in range(start,end+1):\n",
        "  divisor = 0\n",
        "  for j in range(1,i+1):\n",
        "    if i % j ==0:\n",
        "      divisor += 1\n",
        "  if divisor ==2:\n",
        "    prime.append(i)\n",
        "\n",
        "for out in range(start,end+1):\n",
        "  total = 0\n",
        "  for inner in range(1,out):\n",
        "    if out % inner ==0:\n",
        "      total+= inner\n",
        "  if total == out:\n",
        "    perfect.append(out)\n",
        "\n",
        "len_perfect = len(perfect)\n",
        "len_prime = len(prime)\n",
        "print(f\"Between {start} and {end},\")\n",
        "print(f\"Found {len_prime} prime numbers\")\n",
        "print(f\"Found {len_perfect} perfect numbers\")\n",
        "\n",
        "print(\"Prime Numbers: \",end ='')\n",
        "for i in prime:\n",
        "  if i == prime[-1]:\n",
        "    print(i, end=' ')\n",
        "  else:\n",
        "    print(i, end=', ')\n",
        "\n",
        "print('')\n",
        "print(\"Perfect Numbers: \",end ='')\n",
        "for j in perfect:\n",
        "  if j == perfect[-1]:\n",
        "    print(j, end=' ')\n",
        "  else:\n",
        "    print(j, end=', ')\n"
      ]
    },
    {
      "cell_type": "code",
      "execution_count": null,
      "metadata": {
        "colab": {
          "base_uri": "https://localhost:8080/"
        },
        "id": "QKY6B3G0wyO7",
        "outputId": "e60ea010-6b21-4344-bb03-cafbb50643de"
      },
      "outputs": [
        {
          "name": "stdout",
          "output_type": "stream",
          "text": [
            "Enter starting point here: 2\n",
            "Enter ending point here: 6\n",
            "[2, 3, 5]\n",
            "[6]\n"
          ]
        }
      ],
      "source": [
        "#task28 with functions\n",
        "\n",
        "def is_prime(n):\n",
        "  d = 0\n",
        "  for i in range(1,n+1):\n",
        "    if n %i ==0:\n",
        "     d += 1\n",
        "  if d ==2:\n",
        "    return True\n",
        "  else:\n",
        "    return False\n",
        "\n",
        "def is_perfect(n):\n",
        "  t =0\n",
        "  for i in range(1,n):\n",
        "    if n%i ==0:\n",
        "      t += i\n",
        "  if t ==n:\n",
        "    return True\n",
        "  else:\n",
        "    return False\n",
        "\n",
        "start = int(input(\"Enter starting point here: \"))\n",
        "end = int(input(\"Enter ending point here: \"))\n",
        "prime = []\n",
        "perfect = []\n",
        "for i in range(start,end +1):\n",
        "  if is_prime(i) == True:\n",
        "    prime.append(i)\n",
        "\n",
        "len_prime = len(prime)\n",
        "\n",
        "for j in range(start,end+1):\n",
        "  if is_perfect(j) == True:\n",
        "    perfect.append(j)\n",
        "\n",
        "len_perfect = len(perfect)\n",
        "\n",
        "print(prime)\n",
        "print(perfect)\n",
        "    "
      ]
    },
    {
      "cell_type": "code",
      "execution_count": null,
      "metadata": {
        "colab": {
          "base_uri": "https://localhost:8080/"
        },
        "id": "DnKHo72STwHJ",
        "outputId": "4f1b2b4a-347c-47e3-d279-21ae0765fc5c"
      },
      "outputs": [
        {
          "name": "stdout",
          "output_type": "stream",
          "text": [
            "Enter number here: 351\n",
            "Enter number here: 356\n",
            "Enter number here: 9\n",
            "45 90 "
          ]
        }
      ],
      "source": [
        "#task29\n",
        "\n",
        "start = int(input(\"Enter number here: \"))\n",
        "end = int(input(\"Enter number here: \"))\n",
        "divisor = int(input(\"Enter number here: \"))\n",
        "\n",
        "for i in range(start,end+1):\n",
        "  num = i\n",
        "  product = 1\n",
        "  while num >0:\n",
        "    val = num %10\n",
        "    num = num //10\n",
        "    product = product * val\n",
        "  if product % divisor ==0:\n",
        "    print(product, end =\" \")"
      ]
    }
  ],
  "metadata": {
    "colab": {
      "collapsed_sections": [],
      "provenance": []
    },
    "kernelspec": {
      "display_name": "Python 3.10.7 64-bit (microsoft store)",
      "language": "python",
      "name": "python3"
    },
    "language_info": {
      "name": "python",
      "version": "3.10.7"
    },
    "vscode": {
      "interpreter": {
        "hash": "4993f6ced84077d870cd758d9024741312bad0555aefa09e203e955babc611c9"
      }
    }
  },
  "nbformat": 4,
  "nbformat_minor": 0
}
