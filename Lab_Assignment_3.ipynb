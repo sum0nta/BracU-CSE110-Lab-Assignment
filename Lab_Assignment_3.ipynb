{
  "cells": [
    {
      "cell_type": "code",
      "execution_count": null,
      "metadata": {
        "colab": {
          "base_uri": "https://localhost:8080/"
        },
        "id": "omsz8M_DOw8l",
        "outputId": "34d0384b-36a8-4d3c-a0aa-1edf66ad7312"
      },
      "outputs": [
        {
          "name": "stdout",
          "output_type": "stream",
          "text": [
            "Ente string here: 1576527 \n",
            " 7256751\n"
          ]
        }
      ],
      "source": [
        "#task1\n",
        "\n",
        "str1 = input(\"Enter string here: \")\n",
        "\n",
        "print(str1[: :-1])"
      ]
    },
    {
      "cell_type": "code",
      "execution_count": null,
      "metadata": {
        "colab": {
          "base_uri": "https://localhost:8080/"
        },
        "id": "Vt7pykJtHm8Y",
        "outputId": "aac8e0d6-0c22-4fe6-fea0-33c628b834ac"
      },
      "outputs": [
        {
          "name": "stdout",
          "output_type": "stream",
          "text": [
            "Enter string here: Python\n",
            "nohtyP\n"
          ]
        }
      ],
      "source": [
        "#task1 using for loop\n",
        "str1 = input(\"Enter string here: \")\n",
        "reverse = ''\n",
        "\n",
        "for i in range(len(str1)-1,-1,-1):\n",
        "  reverse+= str1[i]\n",
        "\n",
        "print(reverse)"
      ]
    },
    {
      "cell_type": "code",
      "execution_count": null,
      "metadata": {
        "colab": {
          "base_uri": "https://localhost:8080/"
        },
        "id": "y0pWXSYVER4d",
        "outputId": "4585e54f-a958-446e-da8b-36a73b4ada6a"
      },
      "outputs": [
        {
          "name": "stdout",
          "output_type": "stream",
          "text": [
            "Enter string here: abcdef1234\n",
            "Enter index here: 5\n",
            "fedcba1234\n"
          ]
        }
      ],
      "source": [
        "#task2\n",
        "\n",
        "str1 = input(\"Enter string here: \")\n",
        "\n",
        "index1 =int(input(\"Enter index here: \"))\n",
        "\n",
        "new_str = str1[index1: :-1] + str1[index1+1:]\n",
        "print(new_str)"
      ]
    },
    {
      "cell_type": "code",
      "execution_count": null,
      "metadata": {
        "colab": {
          "base_uri": "https://localhost:8080/"
        },
        "id": "mcmNaxOtAKWc",
        "outputId": "d16252ca-24c0-4ac4-90f3-e82e79f7577a"
      },
      "outputs": [
        {
          "name": "stdout",
          "output_type": "stream",
          "text": [
            "Enter number here: 12x0111\n",
            "Not a Binary Number\n"
          ]
        }
      ],
      "source": [
        "#task3 \n",
        "num = input(\"Enter number here: \")\n",
        "'''Flag Concept '''\n",
        "for i in num:\n",
        "  if i =='0' or i=='1':\n",
        "    value1 = True\n",
        "  else:\n",
        "    value1 = False\n",
        "    break\n",
        "if value1 == True:\n",
        "  print(\"Binary Number\")\n",
        "else:\n",
        "  print(\"Not a Binary Number\")"
      ]
    },
    {
      "cell_type": "code",
      "execution_count": null,
      "metadata": {
        "colab": {
          "base_uri": "https://localhost:8080/"
        },
        "id": "AIcTw_KsGYxJ",
        "outputId": "103939fc-4c5d-4275-a6df-f74ff434f6f3"
      },
      "outputs": [
        {
          "name": "stdout",
          "output_type": "stream",
          "text": [
            "Enter string here: abc\n",
            "abc\n"
          ]
        }
      ],
      "source": [
        "#task4\n",
        "\n",
        "str1 = input(\"Enter string here: \")\n",
        "length = len(str1)\n",
        "\n",
        "if str1[-3: ]=='est':\n",
        "  str1 = str1\n",
        "\n",
        "elif str1[-2: ]=='er':\n",
        "  str1 = str1[:length-2]+\"est\"\n",
        "\n",
        "elif length <4:\n",
        "  str1 = str1\n",
        "\n",
        "else:\n",
        "  str1 += 'er'\n",
        "\n",
        "print(str1)"
      ]
    },
    {
      "cell_type": "code",
      "execution_count": 4,
      "metadata": {
        "colab": {
          "base_uri": "https://localhost:8080/"
        },
        "id": "tk9UCcyvSiny",
        "outputId": "7332bf6b-2478-4596-d233-4e7e62b81069"
      },
      "outputs": [
        {
          "name": "stdout",
          "output_type": "stream",
          "text": [
            "b\n",
            "bu\n",
            "bui\n",
            "buil\n",
            "build\n"
          ]
        }
      ],
      "source": [
        "#task5\n",
        "\n",
        "str1 = input(\"Enter word here: \")\n",
        "\n",
        "for i in range(len(str1)):\n",
        "  for j in range(i+1):\n",
        "    print(str1[j],end = '')\n",
        "  print()\n",
        "\n",
        "  "
      ]
    },
    {
      "cell_type": "code",
      "execution_count": null,
      "metadata": {
        "colab": {
          "base_uri": "https://localhost:8080/"
        },
        "id": "Y4gbD1kkS6Xu",
        "outputId": "cc9168d0-23eb-4dfd-a622-ef725faef591"
      },
      "outputs": [
        {
          "name": "stdout",
          "output_type": "stream",
          "text": [
            "Enter string here: Programming\n",
            "P : 80\n",
            "r : 114\n",
            "o : 111\n",
            "g : 103\n",
            "r : 114\n",
            "a : 97\n",
            "m : 109\n",
            "m : 109\n",
            "i : 105\n",
            "n : 110\n",
            "g : 103\n"
          ]
        }
      ],
      "source": [
        "#task6\n",
        "\n",
        "str1 = input(\"Enter string here: \")\n",
        "\n",
        "for i in str1:\n",
        "  print(f\"{i} : {ord(i)}\")"
      ]
    },
    {
      "cell_type": "code",
      "execution_count": null,
      "metadata": {
        "colab": {
          "base_uri": "https://localhost:8080/"
        },
        "id": "YSqKRvLGDVnu",
        "outputId": "64e35943-7c5b-47c6-98d0-c0194b56f043"
      },
      "outputs": [
        {
          "name": "stdout",
          "output_type": "stream",
          "text": [
            "Enter name here: vfhzv\n",
            "wgiaw\n"
          ]
        }
      ],
      "source": [
        "#task7\n",
        "name = input(\"Enter name here: \")\n",
        "str1=''\n",
        "for a in name:\n",
        "  v = ord(a) #ord to get ascii number\n",
        "  #chr function to get chracter from ascii value\n",
        "  #handle specially for 'z'\n",
        "  if v == ord('z'): #to replace z with a\n",
        "    value2 = ord('a')\n",
        "  else:\n",
        "    value2 = v + 1\n",
        "  f = chr(value2)\n",
        "  str1 += f\n",
        "\n",
        "print(str1)"
      ]
    },
    {
      "cell_type": "code",
      "execution_count": null,
      "metadata": {
        "colab": {
          "base_uri": "https://localhost:8080/"
        },
        "id": "TWTl8XWuTag6",
        "outputId": "8223bdbc-8784-416a-b8db-f811b72067e0"
      },
      "outputs": [
        {
          "name": "stdout",
          "output_type": "stream",
          "text": [
            "Enter string here: StrIng\n",
            "TIG\n"
          ]
        }
      ],
      "source": [
        "#task8\n",
        "\n",
        "str1 = input(\"Enter string here: \")\n",
        "str2 =str1[1: :2]\n",
        "str3 =''\n",
        "\n",
        "for i in str2:\n",
        "  if ord(i) > (ord('Z')+1):\n",
        "    str3 += chr(ord(i)-32)\n",
        "  else:\n",
        "    str3+= i\n",
        "\n",
        "print(str3)\n"
      ]
    },
    {
      "cell_type": "code",
      "execution_count": null,
      "metadata": {
        "colab": {
          "base_uri": "https://localhost:8080/"
        },
        "id": "A_DK1zbyEQPb",
        "outputId": "110aaf7a-7ebc-45be-9c02-495b6a2fcad6"
      },
      "outputs": [
        {
          "name": "stdout",
          "output_type": "stream",
          "text": [
            "Enter string here: Jupyter Notebook is better. Case sensitivity check AAaaaAaaAAAa.\n",
            "Jupyter Notebok is beter. Case sensitivity check AaAaAa.\n"
          ]
        }
      ],
      "source": [
        "#task9\n",
        "\n",
        "str1 = input(\"Enter string here: \")\n",
        "str2,j = '',''\n",
        "#j =''\n",
        "for i in str1:\n",
        "  if i !=j:\n",
        "    str2 = str2 +i\n",
        "  j = i\n",
        "print(str2)  "
      ]
    },
    {
      "cell_type": "code",
      "execution_count": null,
      "metadata": {
        "colab": {
          "base_uri": "https://localhost:8080/"
        },
        "id": "pW2O1tf1ENZF",
        "outputId": "7eb02e43-e120-4590-bafd-5abc6825e36b"
      },
      "outputs": [
        {
          "name": "stdout",
          "output_type": "stream",
          "text": [
            "Enter string here: ABCDEF, ijkl\n",
            "AiBjCkDlEF\n"
          ]
        }
      ],
      "source": [
        "#task10\n",
        "\n",
        "str1 = input('Enter string here: ')\n",
        "for i in range(len(str1)):\n",
        "  if str1[i] ==',':\n",
        "    ind = i\n",
        "str2 = str1[:ind]\n",
        "str3 = str1[ind+2:]\n",
        "str4=''\n",
        "\n",
        "l1, l2 = len(str2) , len(str3)\n",
        "\n",
        "if l1 >l2 or l1 ==l2:\n",
        "    for i in range(l2):\n",
        "        str4 += str2[i] + str3[i]\n",
        "    str4 += str2[l2:]\n",
        "\n",
        "elif l2 >l1:\n",
        "    for i in range(l1):\n",
        "        str4 += str2[i] + str3[i]\n",
        "    str4 += str3[l1:]\n",
        "\n",
        "print(str4)"
      ]
    },
    {
      "cell_type": "code",
      "execution_count": null,
      "metadata": {
        "colab": {
          "base_uri": "https://localhost:8080/"
        },
        "id": "01XNAQi1pQCg",
        "outputId": "9a51f957-daf7-4d8a-d0e4-6cc58989ab13"
      },
      "outputs": [
        {
          "name": "stdout",
          "output_type": "stream",
          "text": [
            "5 == 5\n",
            "2 == 2\n",
            "0 == 0\n",
            "-3 != -2\n",
            "-5 != -5\n",
            "-8 != -7\n",
            "-10 != -10\n"
          ]
        }
      ],
      "source": [
        "#task11\n",
        "\n",
        "i = 10\n",
        "while(i >= -20):\n",
        "    if(i < 0):\n",
        "        test = \" != \"\n",
        "        test = str(i//2) + test + str(int(i/2))\n",
        "    else:\n",
        "        test = \" == \"\n",
        "        test = str(i//2) + test + str(int(i/2))\n",
        "    print(test)\n",
        "    i -= 5\n"
      ]
    },
    {
      "cell_type": "code",
      "execution_count": null,
      "metadata": {
        "colab": {
          "base_uri": "https://localhost:8080/"
        },
        "id": "xk23MK8Lpdak",
        "outputId": "9152517a-b0e1-4af8-f95f-63df6686b212"
      },
      "outputs": [
        {
          "name": "stdout",
          "output_type": "stream",
          "text": [
            "14-->-->\n",
            "13-->14-->-->\n",
            "12-->13-->14-->-->\n",
            "11-->12-->13-->14-->-->\n",
            "14-->11-->12-->13-->14-->-->\n",
            "13-->14-->11-->12-->13-->14-->-->\n",
            "12-->13-->14-->11-->12-->13-->14-->-->\n",
            "14-->12-->13-->14-->11-->12-->13-->14-->-->\n",
            "13-->14-->12-->13-->14-->11-->12-->13-->14-->-->\n",
            "14-->13-->14-->12-->13-->14-->11-->12-->13-->14-->-->\n",
            "test ['', '-->', '14-->-->', '13-->14-->-->', '12-->13-->14-->-->', '11-->12-->13-->14-->-->', '14-->11-->12-->13-->14-->-->', '13-->14-->11-->12-->13-->14-->-->', '12-->13-->14-->11-->12-->13-->14-->-->', '14-->12-->13-->14-->11-->12-->13-->14-->-->', '13-->14-->12-->13-->14-->11-->12-->13-->14-->-->', '14-->13-->14-->12-->13-->14-->11-->12-->13-->14-->-->']\n",
            "i [0, 1, 2, 3, 4, 5]\n",
            "j [0, 14, 13, 12, 11, 10, 13, 12, 11, 10, 12, 11, 10, 11, 10, 10]\n",
            "k [15, 14, 13, 12, 11, 10]\n"
          ]
        }
      ],
      "source": [
        "#task12\n",
        "listt = []\n",
        "listi = []\n",
        "listj = []\n",
        "listk = []\n",
        "\n",
        "test = \"\"\n",
        "listt.append(test)\n",
        "i = 0\n",
        "listi.append(i)\n",
        "j = 0\n",
        "listj.append(j)\n",
        "k = 15\n",
        "listk.append(k)\n",
        "test = \"-->\"\n",
        "listt.append(test)\n",
        "while i < 5:\n",
        "    j = k - 1\n",
        "    listj.append(j)\n",
        "    k -= 1\n",
        "    listk.append(k)\n",
        "    while j > 10:\n",
        "        test = str(i + j) + \"-->\" + test\n",
        "        listt.append(test)\n",
        "        print(test)\n",
        "        j -= 1\n",
        "        listj.append(j)\n",
        "    i += 1\n",
        "    listi.append(i)\n",
        "\n",
        "print(\"test\",listt)\n",
        "print(\"i\",listi)\n",
        "print(\"j\",listj)\n",
        "print(\"k\",listk)"
      ]
    },
    {
      "cell_type": "code",
      "execution_count": null,
      "metadata": {
        "colab": {
          "base_uri": "https://localhost:8080/"
        },
        "id": "UXL3n0sHr7YI",
        "outputId": "7b2db0ec-4660-445a-ae24-9127c144eb78"
      },
      "outputs": [
        {
          "name": "stdout",
          "output_type": "stream",
          "text": [
            "<--52-->7\n",
            "-->2-->13\n",
            "<--52-->6\n",
            "-->2-->11\n",
            "-->3-->13\n",
            "<--62-->6\n",
            "-->3-->11\n",
            "<--72-->6\n",
            "-->3-->11\n",
            "-->4-->11\n",
            "test ['', '<--', '<--52-->7', '-->', '-->2-->13', '<--', '<--52-->6', '-->', '-->2-->11', '-->', '-->3-->13', '<--', '<--62-->6', '-->', '-->3-->11', '<--', '<--72-->6', '-->', '-->3-->11', '-->', '-->4-->11']\n",
            "i [5, 6, 7, 8, 9, 10]\n",
            "j [0, 14, 13, 12, 11, 10, 13, 12, 11, 10, 12, 11, 10, 11, 10, 10]\n",
            "k [15, 14, 13, 12, 11, 10]\n"
          ]
        }
      ],
      "source": [
        "#task13\n",
        "listt = []\n",
        "listi = []\n",
        "listj = []\n",
        "listk = []\n",
        "test = \"\"\n",
        "listt.append(test)\n",
        "i = 5\n",
        "listi.append(i)\n",
        "j = 0\n",
        "listj.append(j)\n",
        "k = 15\n",
        "listk.append(k)\n",
        "while i< 10:\n",
        "    k-=1\n",
        "    listk.append(k)\n",
        "    j = k\n",
        "    listj.append(j)\n",
        "    while j > 10:\n",
        "        if (j % 2) == 0:\n",
        "            test = \"<--\"\n",
        "            listt.append(test)\n",
        "            test = str(test) + str(i) + str(2) + \"-->\" + str(int(j / 2))\n",
        "            listt.append(test)  \n",
        "        else:\n",
        "            test = \"-->\"\n",
        "            listt.append(test)\n",
        "            test = \"-->\" + str(int(i / 2)) + str(test) + str(j)\n",
        "            listt.append(test)\n",
        "        print(test)\n",
        "        j = j-1\n",
        "        listj.append(j)\n",
        "    i+=1\n",
        "    listi.append(i)\n",
        "\n",
        "print(\"test\",listt)\n",
        "print(\"i\",listi)\n",
        "print(\"j\",listj)\n",
        "print(\"k\",listk)"
      ]
    },
    {
      "cell_type": "code",
      "execution_count": null,
      "metadata": {
        "colab": {
          "base_uri": "https://localhost:8080/"
        },
        "id": "sfSGYmjVtaAM",
        "outputId": "1c2e5c8c-585e-4d05-96f6-6dfb0d0f50b0"
      },
      "outputs": [
        {
          "name": "stdout",
          "output_type": "stream",
          "text": [
            "<--53-->4\n",
            "-->1-->13\n",
            "<--53-->4\n",
            "-->1-->11\n",
            "-->2-->13\n",
            "<--63-->4\n",
            "-->2-->11\n",
            "<--73-->4\n",
            "-->2-->11\n",
            "-->2-->11\n",
            "test ['', '<--', '<--53-->4', '-->', '-->1-->13', '<--', '<--53-->4', '-->', '-->1-->11', '-->', '-->2-->13', '<--', '<--63-->4', '-->', '-->2-->11', '<--', '<--73-->4', '-->', '-->2-->11', '-->', '-->2-->11']\n",
            "i [5, 6, 7, 8, 9, 10]\n",
            "j [0, 14, 13, 12, 11, 10, 13, 12, 11, 10, 12, 11, 10, 11, 10, 10]\n",
            "k [15, 14, 13, 12, 11, 10]\n"
          ]
        }
      ],
      "source": [
        "#task14\n",
        "listt = []\n",
        "listi = []\n",
        "listj = []\n",
        "listk = []\n",
        "test = \"\"\n",
        "listt.append(test)\n",
        "i = 5\n",
        "listi.append(i)\n",
        "j = 0\n",
        "listj.append(j)\n",
        "k = 15\n",
        "listk.append(k)\n",
        "while (i< 10): \n",
        "    k-=1\n",
        "    listk.append(k)\n",
        "    j = k\n",
        "    listj.append(j)\n",
        "    while (j > 10 ):\n",
        "        if j % 2 == 0:\n",
        "            test = \"<--\"\n",
        "            listt.append(test)\n",
        "            test = test + str( i) + '3' + \"-->\" + str(j // 3)\n",
        "            listt.append(test)\n",
        "        else:\n",
        "            test = \"-->\"\n",
        "            listt.append(test)\n",
        "            test = \"-->\" + str((i // 3)) + test + str(j)\n",
        "            listt.append(test)\n",
        "        print(test)\n",
        "        j -=1\n",
        "        listj.append(j)\n",
        "    i+=1\n",
        "    listi.append(i)\n",
        "\n",
        "print(\"test\",listt)\n",
        "print(\"i\",listi)\n",
        "print(\"j\",listj)\n",
        "print(\"k\",listk)"
      ]
    },
    {
      "cell_type": "code",
      "execution_count": null,
      "metadata": {
        "colab": {
          "base_uri": "https://localhost:8080/"
        },
        "id": "BfmKpvxJuLaC",
        "outputId": "42688464-cb13-4ca1-8218-f219f30d43bc"
      },
      "outputs": [
        {
          "name": "stdout",
          "output_type": "stream",
          "text": [
            "<--cat-->07\n",
            "<--cat-->07<--013\n",
            "<--cat-->07<--013-->06\n",
            "<--cat-->07<--013-->06<--011\n",
            "<--cat-->07<--013-->06<--011<--013\n",
            "<--cat-->07<--013-->06<--011<--013-->16\n",
            "<--cat-->07<--013-->06<--011<--013-->16<--011\n",
            "<--cat-->07<--013-->06<--011<--013-->16<--011-->26\n",
            "<--cat-->07<--013-->06<--011<--013-->16<--011-->26<--111\n",
            "<--cat-->07<--013-->06<--011<--013-->16<--011-->26<--111<--111\n",
            "test ['<--cat', '<--cat-->', '<--cat-->07', '<--cat-->07<--', '<--cat-->07<--013', '<--cat-->07<--013-->', '<--cat-->07<--013-->06', '<--cat-->07<--013-->06<--', '<--cat-->07<--013-->06<--011', '<--cat-->07<--013-->06<--011<--', '<--cat-->07<--013-->06<--011<--013', '<--cat-->07<--013-->06<--011<--013-->', '<--cat-->07<--013-->06<--011<--013-->16', '<--cat-->07<--013-->06<--011<--013-->16<--', '<--cat-->07<--013-->06<--011<--013-->16<--011', '<--cat-->07<--013-->06<--011<--013-->16<--011-->', '<--cat-->07<--013-->06<--011<--013-->16<--011-->26', '<--cat-->07<--013-->06<--011<--013-->16<--011-->26<--', '<--cat-->07<--013-->06<--011<--013-->16<--011-->26<--111', '<--cat-->07<--013-->06<--011<--013-->16<--011-->26<--111<--', '<--cat-->07<--013-->06<--011<--013-->16<--011-->26<--111<--111']\n",
            "i [0, 1, 2, 3, 4, 5]\n",
            "j [0, 14, 13, 12, 11, 10, 13, 12, 11, 10, 12, 11, 10, 11, 10, 10]\n",
            "k [15, 14, 13, 12, 11, 10]\n"
          ]
        }
      ],
      "source": [
        "#task15\n",
        "listt = []\n",
        "listi = []\n",
        "listj = []\n",
        "listk = []\n",
        "i=0\n",
        "listi.append(i)\n",
        "j=0\n",
        "listj.append(j)\n",
        "k=15\n",
        "listk.append(k)\n",
        "test = '<--cat'\n",
        "listt.append(test)\n",
        "while i < 5:\n",
        "    k -= 1\n",
        "    listk.append(k)\n",
        "    j = k\n",
        "    listj.append(j)\n",
        "    while j > 10:\n",
        "        if j % 2 == 0:\n",
        "            test += '-->'\n",
        "            listt.append(test)\n",
        "            test = test + str(i) + str(j // 2)\n",
        "            listt.append(test)\n",
        "        else:\n",
        "            test += '<--'\n",
        "            listt.append(test)\n",
        "            test = test + str(i // 2) + str(j)\n",
        "            listt.append(test)\n",
        "        print(test)\n",
        "        j-=1\n",
        "        listj.append(j)\n",
        "    i+=1\n",
        "    listi.append(i)\n",
        "\n",
        "print(\"test\",listt)\n",
        "print(\"i\",listi)\n",
        "print(\"j\",listj)\n",
        "print(\"k\",listk)"
      ]
    },
    {
      "cell_type": "code",
      "execution_count": null,
      "metadata": {
        "colab": {
          "base_uri": "https://localhost:8080/"
        },
        "id": "qNHJb2cJdXXz",
        "outputId": "eee8408e-a7d0-4885-d9d0-d9ddc4a5b421"
      },
      "outputs": [
        {
          "name": "stdout",
          "output_type": "stream",
          "text": [
            "Enter words here: tanjido kamado\n",
            "Enter letter here: a\n",
            "tnjido kmdo\n"
          ]
        }
      ],
      "source": [
        "#Task16\n",
        "str1 = input(\"Enter words here: \")\n",
        "str2 = input(\"Enter letter here: \")\n",
        "str3 = ''\n",
        "if len(str1)>3:\n",
        "  if str2 not in str1:\n",
        "    str3 = str1[1:-1]\n",
        "  else:\n",
        "    for i in str1:\n",
        "      if i!= str2:\n",
        "        str3+= i\n",
        "else:\n",
        "  str3 = str1\n",
        "\n",
        "print(str3)  "
      ]
    },
    {
      "cell_type": "code",
      "execution_count": null,
      "metadata": {
        "colab": {
          "base_uri": "https://localhost:8080/"
        },
        "id": "N_7Fu7UbDKKv",
        "outputId": "c51acdc6-db80-4370-8599-5545301123b8"
      },
      "outputs": [
        {
          "name": "stdout",
          "output_type": "stream",
          "text": [
            "Enter string here: tom@gmail,jeff@yahoo\n",
            "Enter character here: ,\n",
            "[9]\n",
            "tom@gmail\n",
            "jeff@yahoo\n"
          ]
        }
      ],
      "source": [
        "#task17\n",
        "\n",
        "str1 = input(\"Enter string here: \")\n",
        "char1 = input(\"Enter character here: \")\n",
        "\n",
        "list1 = []\n",
        "f = 0\n",
        "\n",
        "for i in range(len(str1)):\n",
        "  if str1[i]== char1:\n",
        "    list1.append(i)\n",
        "# this is to get index numbers where char1 exists\n",
        "\n",
        "for j in list1:\n",
        "  if f ==0:\n",
        "    str2 = str1[:j]\n",
        "# adds everything till the j index to str2\n",
        "  else:\n",
        "    str2 = str1[f+1:j]\n",
        "# f+1 to start from the index after char1 till j index\n",
        "  f = j\n",
        "  print(str2)\n",
        "str3 = str1[f+1:]\n",
        "#str3 is for the last part after char1 \n",
        "print(str3)"
      ]
    },
    {
      "cell_type": "code",
      "execution_count": null,
      "metadata": {
        "colab": {
          "base_uri": "https://localhost:8080/"
        },
        "id": "6OhVGf4mE4hu",
        "outputId": "9be6df3c-9ff7-45f7-cc73-8f709f7a03fd"
      },
      "outputs": [
        {
          "name": "stdout",
          "output_type": "stream",
          "text": [
            "Enter string here: ABC12\n",
            "Enter number here: 2\n",
            "ABC12ABC12ABC12ABC12\n"
          ]
        }
      ],
      "source": [
        "#task18\n",
        "\n",
        "str1 = input(\"Enter string here: \")\n",
        "num = int(input(\"Enter number here: \"))\n",
        "if num%2 ==0:\n",
        "  num = num*2\n",
        "else:\n",
        "  num = num*3\n",
        "print(str1*num)"
      ]
    },
    {
      "cell_type": "code",
      "execution_count": null,
      "metadata": {
        "colab": {
          "base_uri": "https://localhost:8080/"
        },
        "id": "1arQTuh-GGUz",
        "outputId": "22029d2f-20ae-4af9-8b7c-8f79ee843a7b"
      },
      "outputs": [
        {
          "name": "stdout",
          "output_type": "stream",
          "text": [
            "Enter string here: CSE11 Course\n",
            "CsE11 cOuRsE\n"
          ]
        }
      ],
      "source": [
        "#task19\n",
        "\n",
        "str1 = input(\"Enter string here: \")\n",
        "str2 =\"\"\n",
        "\n",
        "i = 0\n",
        "counter = 0\n",
        "while i <(len(str1)):\n",
        "  if (ord('a')<= ord(str1[i])<= ord('z')) or (ord('A') <= ord(str1[i])<= ord('Z')):\n",
        "    if counter% 2 ==0:\n",
        "      str2 += str1[i].upper()\n",
        "    else:\n",
        "      str2+= str1[i].lower()\n",
        "    counter+= 1\n",
        "  else:\n",
        "    str2+= str1[i]\n",
        "  i+= 1\n",
        "\n",
        "print(str2)\n"
      ]
    }
  ],
  "metadata": {
    "colab": {
      "collapsed_sections": [],
      "provenance": []
    },
    "kernelspec": {
      "display_name": "Python 3.10.7 64-bit (microsoft store)",
      "language": "python",
      "name": "python3"
    },
    "language_info": {
      "codemirror_mode": {
        "name": "ipython",
        "version": 3
      },
      "file_extension": ".py",
      "mimetype": "text/x-python",
      "name": "python",
      "nbconvert_exporter": "python",
      "pygments_lexer": "ipython3",
      "version": "3.10.7"
    },
    "vscode": {
      "interpreter": {
        "hash": "4993f6ced84077d870cd758d9024741312bad0555aefa09e203e955babc611c9"
      }
    }
  },
  "nbformat": 4,
  "nbformat_minor": 0
}
